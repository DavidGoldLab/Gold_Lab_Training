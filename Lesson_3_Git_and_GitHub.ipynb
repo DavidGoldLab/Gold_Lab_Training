{
 "cells": [
  {
   "cell_type": "markdown",
   "metadata": {},
   "source": [
    "# Lesson 3: Git and Github"
   ]
  },
  {
   "cell_type": "markdown",
   "metadata": {},
   "source": [
    "© 2019 David Gold. Some materials originally adapted from Justin Bois' [Caltech Bootcamp Course](http://justinbois.github.io/bootcamp/2019/). Except where the source is noted, this work is licensed under a [Creative Commons Attribution License CC-BY 4.0](https://creativecommons.org/licenses/by/4.0/)."
   ]
  },
  {
   "cell_type": "markdown",
   "metadata": {},
   "source": [
    "## 3.1. Setting up Git\n",
    "\n",
    "The Gold lab uses Git for version control when sharing files, data, and code.\n",
    "\n",
    "Put briefly, Git is a __version control system__ that allows multiple people to collaborate on the same program while keeping track of the changes each person makes. Git allows locally stored __repositories__ of code to be synchronized against a remotely stored master copy.\n",
    "\n",
    "Install the latest version of Git with Homebrew:"
   ]
  },
  {
   "cell_type": "code",
   "execution_count": null,
   "metadata": {},
   "outputs": [],
   "source": [
    "brew install git"
   ]
  },
  {
   "cell_type": "markdown",
   "metadata": {},
   "source": [
    "## 3.2. Signing up for a GitHub account\n",
    "\n",
    "GitHub is a company (owned by Microsoft) that provides hosting for software development. Github connects with Git so that local computers can easily interact with software stored on the website.\n",
    "\n",
    "Go to [http://github.com/](http://github.com/) to get an account. You should register with your UC Davis email address (you get free repositories as an academic). __Be thoughtful about the username you choose. This website is part of your professional profile--for some careers your GitHub page is more important than your resume.__"
   ]
  },
  {
   "cell_type": "markdown",
   "metadata": {},
   "source": [
    "## 3.3. Setting your username in Git\n",
    "\n",
    "You can change the name that is associated with your Git commits using the git `config` command. The new name you set will be visible in any future commits you push to GitHub from the command line. You do not have to use your real name if you don't want to.\n",
    "\n",
    "Configure your Github username. __Don't forget to replace \"Barbara McClintock\" with your prefered name!__:"
   ]
  },
  {
   "cell_type": "code",
   "execution_count": null,
   "metadata": {},
   "outputs": [],
   "source": [
    "git config --global user.name \"Barbara McClintock\""
   ]
  },
  {
   "cell_type": "markdown",
   "metadata": {},
   "source": [
    "Now configure your Github email. __Don't forget to replace \"your_email@example.com\" with your actual email address!__"
   ]
  },
  {
   "cell_type": "code",
   "execution_count": null,
   "metadata": {},
   "outputs": [],
   "source": [
    "git config --global user.email \"your_email@example.com\""
   ]
  },
  {
   "cell_type": "markdown",
   "metadata": {},
   "source": [
    "## 3.4. Forking a repository\n",
    "\n",
    "GitHub is full of repositories with useful pieces of code. You might not be a collaborator on a repository, but you want to play with the code and perhaps make modificiations to it. You also want to keep the code up to date in case the author(s) make any changes to the code.\n",
    "\n",
    "An easy way to do this is through **forking**. To fork a repository on GitHub, go to the repository on Github and click the \"fork\" button. __Be sure you are logged into GitHub when you do this__. \n",
    "\n",
    "Click [this link](https://github.com/DavidGoldLab/Gold_Lab_Training) to go to the GitHub page for our lab.\n",
    "\n",
    "The fork button is in the upper right. Click the button and you  have a **fork** of our repository on your GitHub account!"
   ]
  },
  {
   "cell_type": "markdown",
   "metadata": {},
   "source": [
    "## 3.5. Cloning your fork to your local machine\n",
    "\n",
    "Now that you have a forked copy of the repository associated with your GitHub account, you can clone it onto your local machine. To be clear, the __local version__ of your repository is stored on your computer's hard drive; it is distinct from the repository stored on GitHub (although the two can interact, as you will see soon).\n",
    "\n",
    "Let's store all of your repositories in a directory called `git` in your home directory. We can make a directory by typing the following command into Terminal:"
   ]
  },
  {
   "cell_type": "code",
   "execution_count": null,
   "metadata": {},
   "outputs": [],
   "source": [
    "mkdir ~/git"
   ]
  },
  {
   "cell_type": "markdown",
   "metadata": {},
   "source": [
    "Now you can clone your forked copy of the repository onto your local machine. To do this, navigate your browser to the forked copy of the `Gold_Lab_Training` repository on your account (this is where clicking the \"Fork\" button took you in your browser). The browser URL will be: `https://github.com/YOUR_USERNAME/Gold_Lab_Training`, and the top left of the website will say something like \"`yourusername/Gold_Lab_Training` forked from `DavidGoldLab/Gold_Lab_Training`\".\n",
    "\n",
    "\n",
    "Now you can clone it with the following command in Terminal. __Make sure to replace `https://github.com/YOUR_USERNAME/Gold_Lab_Training` in the code below with your personal URL:"
   ]
  },
  {
   "cell_type": "code",
   "execution_count": null,
   "metadata": {},
   "outputs": [],
   "source": [
    "cd ~/git\n",
    "git clone https://github.com/YOUR_USERNAME/Gold_Lab_Training"
   ]
  },
  {
   "cell_type": "markdown",
   "metadata": {},
   "source": [
    "You now have a local copy of your own fork of the bootcamp repository. You can add files and edit it. When you commit and push, it will all be on your account, and the master repository will not see the changes."
   ]
  },
  {
   "cell_type": "markdown",
   "metadata": {},
   "source": [
    "## 3.6. Syncing your forked repository to the upstream repository\n",
    "\n",
    "You want to be able to sync your forked repository with the original repository (also called the __upstream repository__) in case there are any updates. What we now need to do is link your local copy of the repository to the upstream Gold_Lab_Training repository.\n",
    "\n",
    "Using Terminal, navigate to your local copy of the Gold_Lab_Training folder. You can then use `git remote` command to see which remote (online) repositories are associated with repository. Adding the `-v` (__verbose__) flag will provide additional information, including the URLs associated with the remote repositories:"
   ]
  },
  {
   "cell_type": "code",
   "execution_count": null,
   "metadata": {},
   "outputs": [],
   "source": [
    "cd Gold_Lab_Training\n",
    "git remote -v"
   ]
  },
  {
   "cell_type": "markdown",
   "metadata": {},
   "source": [
    "Part of your output should look something like this:\n",
    "\n",
    "    origin\thttps://github.com/YOUR_USERNAME/Gold_Lab_Training (fetch)\n",
    "    origin\thttps://github.com/YOUR_USERNAME/Gold_Lab_Training (push)\n",
    "\n",
    "This shows you the URL to your repository. Now you can connect your version of the repository to the upstream version:"
   ]
  },
  {
   "cell_type": "code",
   "execution_count": null,
   "metadata": {},
   "outputs": [],
   "source": [
    "git remote add upstream https://github.com/DavidGoldLab/Gold_Lab_Training"
   ]
  },
  {
   "cell_type": "markdown",
   "metadata": {},
   "source": [
    "Now try doing `git remote -v`, and you will see that you are now connected to the upstream repository.\n",
    "\n",
    "    origin\thttps://github.com/YOUR_USERNAME/Gold_Lab_Training (fetch)\n",
    "    origin\thttps://github.com/YOUR_USERNAME/Gold_Lab_Training (push)\n",
    "    upstream\thttps://github.com/DavidGoldLab/Gold_Lab_Training (fetch)\n",
    "    upstream\thttps://github.com/DavidGoldLab/Gold_Lab_Training (push)\n",
    "\n",
    "__NOTE:__ If you ever want to delete a repository, go to the git directory and remove the repository using the force (`-f`), and recursive (`-r`) flags:\n",
    "\n",
    "    cd ~\\git\\\n",
    "    rm -rf Gold_Lab_Training"
   ]
  },
  {
   "cell_type": "markdown",
   "metadata": {},
   "source": [
    "## 3.7. Making changes in the local repository folder"
   ]
  },
  {
   "cell_type": "markdown",
   "metadata": {},
   "source": [
    "If you want to change file names for annything in your foler, the  `mv` command with `git`. That way, Git will keep track of the naming changes you made:\n",
    "\n",
    "    git mv [Original_File/Path] [New_File/Path] "
   ]
  },
  {
   "cell_type": "markdown",
   "metadata": {},
   "source": [
    "## 3.8. Communicating between the local repository and GitHub\n",
    "\n",
    "Now that you've got a local copy and a copy on your GitHub account, there are five caommands you'll need to know in order to interact with your forked repository on Github:\n",
    "\n",
    "- __Add__ - If you add new files to your local repository, you need to use this command before using `commit` (see below).\n",
    "- __Commit__ - This command records changes you have made to the repository. Think of it as a snapshot of the current status of the project. Commits are done locally (in other words, on your personal computer).\n",
    "- __Push__ - This command \"pushes\" the recent commit from your local repository up to GitHub. If you're the only one working on a repository, pushing is fairly simple. If there are others accessing the repository, you may need to pull before you can push.\n",
    "- __Pull__ - This command \"pulls\" any changes from the GitHub repository and merges them into your local repository."
   ]
  },
  {
   "cell_type": "markdown",
   "metadata": {},
   "source": [
    "## 3.9. Saving changes in local Git repository to Github"
   ]
  },
  {
   "cell_type": "markdown",
   "metadata": {},
   "source": [
    "Make sure you are in the relevent repository directory in terminal. Then `add` the changes you made using git:"
   ]
  },
  {
   "cell_type": "code",
   "execution_count": null,
   "metadata": {},
   "outputs": [],
   "source": [
    "git add --all"
   ]
  },
  {
   "cell_type": "markdown",
   "metadata": {},
   "source": [
    "`Commit` the changes. __Replace 'commit_message' with a short message detailing the changes you made (this is useful for version control)__:"
   ]
  },
  {
   "cell_type": "code",
   "execution_count": null,
   "metadata": {},
   "outputs": [],
   "source": [
    "git commit -m 'commit_message'"
   ]
  },
  {
   "cell_type": "markdown",
   "metadata": {},
   "source": [
    "Copy files from your local repository to GitHub using `push`"
   ]
  },
  {
   "cell_type": "code",
   "execution_count": null,
   "metadata": {},
   "outputs": [],
   "source": [
    "git push"
   ]
  },
  {
   "cell_type": "markdown",
   "metadata": {},
   "source": [
    "You may be asked to provide your GitHub username and password"
   ]
  }
 ],
 "metadata": {
  "anaconda-cloud": {},
  "kernelspec": {
   "display_name": "Bash",
   "language": "bash",
   "name": "bash"
  },
  "language_info": {
   "codemirror_mode": "shell",
   "file_extension": ".sh",
   "mimetype": "text/x-sh",
   "name": "bash"
  }
 },
 "nbformat": 4,
 "nbformat_minor": 2
}
