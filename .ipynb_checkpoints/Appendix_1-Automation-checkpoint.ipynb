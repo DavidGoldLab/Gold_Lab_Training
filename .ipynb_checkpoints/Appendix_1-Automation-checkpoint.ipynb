{
 "cells": [
  {
   "cell_type": "markdown",
   "metadata": {},
   "source": [
    "## Annotate fasta file with the Uniprot Swissprot database\n",
    "\n",
    "If you do not have the Uniprot/Swissprot Database, download and format it:"
   ]
  },
  {
   "cell_type": "code",
   "execution_count": null,
   "metadata": {},
   "outputs": [],
   "source": [
    "wget ftp.uniprot.org/pub/databases/uniprot/current_release/knowledgebase/complete/uniprot_sprot.dat.gz\n",
    "gunzip uniprot_sprot.dat.gz\n",
    "makeblastdb -in uniprot_sprot.pep -dbtype prot"
   ]
  },
  {
   "cell_type": "markdown",
   "metadata": {},
   "source": [
    "Perform the BLAST search"
   ]
  },
  {
   "cell_type": "code",
   "execution_count": null,
   "metadata": {},
   "outputs": [],
   "source": [
    "blastp -query {Query_File.fasta} -db prot -outfmt 6 -out Blast_Results.txt"
   ]
  },
  {
   "cell_type": "markdown",
   "metadata": {},
   "source": [
    "Append results to the original fasta file (called \"Query_File.fasta\" in this example:"
   ]
  },
  {
   "cell_type": "code",
   "execution_count": null,
   "metadata": {},
   "outputs": [],
   "source": [
    "# this code requires GNU sed (gsed); if you do not have it install with homebrew\n",
    "brew install gsed\n",
    "# Extract the relevent lines from the BLAST output\n",
    "cut -f 1,2 Blast_Results.txt > tmp0\n",
    "\n",
    "###########################################################################\n",
    "# convert fasta file into a document with each sequence on a single line #\n",
    "###########################################################################\n",
    "# add a tab to the end of each sequence ID\n",
    "gsed s/\"\\(>\\)\\(.*\\)\"/\"\\1\\2\\t\"/g Query_File.fasta > tmp1 \n",
    "# convert to a single line\n",
    "tr -d '\\n' < tmp1  > tmp2\n",
    "# replace '>' with a newline\n",
    "gsed 's/>/\\n/g' tmp2 > tmp3\n",
    "# remove first blank line (necessary for join command)\n",
    "gsed -r '/^\\s*$/d' tmp3 > tmp4\n",
    "\n",
    "# join BLAST results with query sequences\n",
    "join <(sort tmp0) <(sort tmp4) > tmp5\n",
    "\n",
    "# reformat into a fasta file\n",
    "sort -u tmp5 > tmp6\n",
    "gsed 's/^/>/g' tmp6 > tmp7\n",
    "gsed -E 's/ ([^ ]*)$/\\n\\1/' tmp7 > tmp8\n",
    "gsed -E 's/^([^ ]*) /\\1|/' tmp8 > Query_File.Annotated.fasta\n",
    "# cleanup\n",
    "rm tmp*"
   ]
  },
  {
   "cell_type": "markdown",
   "metadata": {},
   "source": [
    "Take a careful look at the results. With this code, any sequence that lacks a hit in the Swissprot Uniprot databse will be removed."
   ]
  },
  {
   "cell_type": "markdown",
   "metadata": {},
   "source": [
    "## Annotate fasta file with the PFAM database\n",
    "\n",
    "\n",
    "If you do not have the pfamA Database, download and format it:"
   ]
  },
  {
   "cell_type": "code",
   "execution_count": null,
   "metadata": {},
   "outputs": [],
   "source": [
    "wget\n",
    "gunzip Pfam-A.hmm.gz\n",
    "hmmpress Pfam-A.hmm"
   ]
  },
  {
   "cell_type": "markdown",
   "metadata": {},
   "source": [
    "Search for protein domains with HMMscan. If you install `Pfam-A.hmm` in a different directory from the search, you will need to include the path."
   ]
  },
  {
   "cell_type": "code",
   "execution_count": null,
   "metadata": {},
   "outputs": [],
   "source": [
    "hmmscan  --domtblout HMMER.out \\\n",
    "--pfamtblout HMMER.pfam.txt Pfam-A.hmm \\\n",
    "Query_File.fasta > HMMER.pfam.log "
   ]
  },
  {
   "cell_type": "markdown",
   "metadata": {},
   "source": [
    "Extract hmm information to create list for samtools"
   ]
  },
  {
   "cell_type": "code",
   "execution_count": null,
   "metadata": {},
   "outputs": [],
   "source": [
    "###########################\n",
    "# reformat HMMER.out file #\n",
    "###########################\n",
    "# convert all spaces into single tabs\n",
    "tr -s '[:blank:]' '\\t' < HMMER.out > tmp1\n",
    "# remove comment lines (lines that start with '#')\n",
    "sed '/^#/d' tmp1 > tmp2\n",
    "\n",
    "# extract lines with conserved domain of interest (in this example, 'Lycopene_cycl')\n",
    "sed -n '/^Lycopene_cycl/p' tmp2 > tmp3\n",
    "\n",
    "# extract complete seqeunces\n",
    "sort -u <(cut -f 4 tmp3) > tmp4\n",
    "# OR extract the sequence and 'ali' coordinates using awk and the ASCII octal digits for \" (042)\n",
    "awk '{print \"\\042\"$4\"\\042\"\":\"$18\"-\"$19}' tmp3 > tmp4\n",
    "\n",
    "# extract results through samtools\n",
    "xargs samtools faidx Query_File.fasta < tmp4 > HMMER_Results.fasta\n",
    "# cleanup\n",
    "rm tmp*"
   ]
  }
 ],
 "metadata": {
  "kernelspec": {
   "display_name": "Python 3",
   "language": "python",
   "name": "python3"
  },
  "language_info": {
   "codemirror_mode": {
    "name": "ipython",
    "version": 3
   },
   "file_extension": ".py",
   "mimetype": "text/x-python",
   "name": "python",
   "nbconvert_exporter": "python",
   "pygments_lexer": "ipython3",
   "version": "3.8.6"
  }
 },
 "nbformat": 4,
 "nbformat_minor": 4
}
