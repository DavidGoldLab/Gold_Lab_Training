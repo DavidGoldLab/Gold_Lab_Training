{
 "cells": [
  {
   "cell_type": "markdown",
   "metadata": {},
   "source": [
    "# Lesson 1: Basic Command Line Skills"
   ]
  },
  {
   "cell_type": "markdown",
   "metadata": {},
   "source": [
    "© 2019 David Gold. Some materials originally adapted from Justin Bois' [Caltech Bootcamp Course](http://justinbois.github.io/bootcamp/2019/). Except where the source is noted, this work is licensed under a [Creative Commons Attribution License CC-BY 4.0](https://creativecommons.org/licenses/by/4.0/)."
   ]
  },
  {
   "cell_type": "markdown",
   "metadata": {},
   "source": [
    "## 1.1. Getting started with the command line\n",
    "\n",
    "Now, as you did in lesson 1, open up your terminal application"
   ]
  },
  {
   "cell_type": "markdown",
   "metadata": {},
   "source": [
    "## 1.2. pwd, cd, and ls: navigating around directories\n",
    "\n",
    "When you click around the folders and subfolders of your computer, you are actually navigating __directories__. Directories are a hierarchical file system your computer uses to store and organize files.\n",
    "\n",
    "Let's start by using the `pwd` __(print working directory)__ command to figure out what directory we're in. Type the following into terminal:"
   ]
  },
  {
   "cell_type": "code",
   "execution_count": null,
   "metadata": {},
   "outputs": [],
   "source": [
    "pwd"
   ]
  },
  {
   "cell_type": "markdown",
   "metadata": {},
   "source": [
    "You should get something like:\n",
    "\n",
    "    /Users/{Your_Computer_Username}\n",
    "\n",
    "`pwd` tells you the **path** of your current directory. The path shows where a file or folder is stored on your computer. The path lists all of the parent directories in the hierarchy, separated by slashes (`/`), all the way up to the root directory, which is signified by the initial `/`. When you start up Terminal you should be in your __home directory__.\n",
    "\n",
    "To list all files and folders in the current directory, we employ the `ls` __(list)__ command:"
   ]
  },
  {
   "cell_type": "code",
   "execution_count": null,
   "metadata": {},
   "outputs": [],
   "source": [
    "ls"
   ]
  },
  {
   "cell_type": "markdown",
   "metadata": {},
   "source": [
    "## 1.3. cd: changing directories\n",
    "\n",
    "Let's move arond the computer using the `cd` __(change directory)__ command. If you are in your home directory, you should se the \"Desktop\" folder when you use the `ls` command. This is because the \"Desktop\" is a subfolder in your home directory (in other words, your home directory is the __parent directory__ and your desktop is the __child directory__).\n",
    "\n",
    "You can navigate to the Desktop using the `cd` command:"
   ]
  },
  {
   "cell_type": "code",
   "execution_count": null,
   "metadata": {},
   "outputs": [],
   "source": [
    "cd Desktop"
   ]
  },
  {
   "cell_type": "markdown",
   "metadata": {},
   "source": [
    "Use the `ls` command again and you can see all of the files and folders currently on your desktop!\n",
    "\n",
    "Another way to specify your home directory is by its shortcut, `~/`. So you can always go direclty to your home directory using the following command:"
   ]
  },
  {
   "cell_type": "code",
   "execution_count": null,
   "metadata": {},
   "outputs": [],
   "source": [
    "cd ~/"
   ]
  },
  {
   "cell_type": "markdown",
   "metadata": {},
   "source": [
    "If you know the path to a folder, you can go directly to it using the `cd` command:"
   ]
  },
  {
   "cell_type": "code",
   "execution_count": null,
   "metadata": {},
   "outputs": [],
   "source": [
    "cd ~/Desktop"
   ]
  },
  {
   "cell_type": "markdown",
   "metadata": {},
   "source": [
    "One last trick; you can use periods as a shortcut to move around directories. One period (`.`) signifies the folder you are in. Two periods (`..`) signifies the parent folder. So if you wanted to navigate up two directories you could do the following:"
   ]
  },
  {
   "cell_type": "code",
   "execution_count": null,
   "metadata": {},
   "outputs": [],
   "source": [
    "cd ../../"
   ]
  },
  {
   "cell_type": "markdown",
   "metadata": {},
   "source": [
    "## 1.4. open: view your working directory in Finder\n",
    "\n",
    "Here is a nice trick if you want to \"open\" the directory in a more traditional \"Finder\" window:"
   ]
  },
  {
   "cell_type": "code",
   "execution_count": null,
   "metadata": {},
   "outputs": [],
   "source": [
    "open ."
   ]
  },
  {
   "cell_type": "markdown",
   "metadata": {},
   "source": [
    "The period means that you want to open the current directory."
   ]
  },
  {
   "cell_type": "markdown",
   "metadata": {},
   "source": [
    "## 1.5. mkdir and rmdir: Making and removing directories\n",
    "\n",
    "Let's start this exercise by making sure we are in the home directory:"
   ]
  },
  {
   "cell_type": "code",
   "execution_count": null,
   "metadata": {},
   "outputs": [],
   "source": [
    "cd ~/"
   ]
  },
  {
   "cell_type": "markdown",
   "metadata": {},
   "source": [
    "To make a directory, the command is `mkdir` (__make directory__) followed by the name of the directory you want to create. For example, to make a directory called `test` type the following into Terminal:"
   ]
  },
  {
   "cell_type": "code",
   "execution_count": null,
   "metadata": {},
   "outputs": [],
   "source": [
    "mkdir test"
   ]
  },
  {
   "cell_type": "markdown",
   "metadata": {},
   "source": [
    "You now have an empty directory called test. You can see it if you list the contents of the directory."
   ]
  },
  {
   "cell_type": "code",
   "execution_count": null,
   "metadata": {},
   "outputs": [],
   "source": [
    "ls"
   ]
  },
  {
   "cell_type": "markdown",
   "metadata": {},
   "source": [
    "You can move into this directory with the `cd` command."
   ]
  },
  {
   "cell_type": "code",
   "execution_count": null,
   "metadata": {},
   "outputs": [],
   "source": [
    "cd test"
   ]
  },
  {
   "cell_type": "markdown",
   "metadata": {},
   "source": [
    "Verify that you are in the directory by checking your path:"
   ]
  },
  {
   "cell_type": "code",
   "execution_count": null,
   "metadata": {},
   "outputs": [],
   "source": [
    "pwd"
   ]
  },
  {
   "cell_type": "markdown",
   "metadata": {},
   "source": [
    "In response the computer should report a path that ends in \"test\"; for example:\n",
    "\n",
    "    /Users/davidgold/test\n",
    "\n",
    "Let's now move back into the parent directory:"
   ]
  },
  {
   "cell_type": "code",
   "execution_count": null,
   "metadata": {},
   "outputs": [],
   "source": [
    "cd ../"
   ]
  },
  {
   "cell_type": "markdown",
   "metadata": {},
   "source": [
    "We do not need (nor want) this test directory, so let's delete it. To delete an *empty* directory, the command is `rmdir`."
   ]
  },
  {
   "cell_type": "code",
   "execution_count": null,
   "metadata": {},
   "outputs": [],
   "source": [
    "rmdir test"
   ]
  },
  {
   "cell_type": "markdown",
   "metadata": {},
   "source": [
    "To delete directories with files in them, you need the `rm` command (discussed later)."
   ]
  },
  {
   "cell_type": "markdown",
   "metadata": {},
   "source": [
    "## 1.6. nano: creating text files\n",
    "\n",
    "For the next exercise, I want to start by making a folder and adding a text file to it:\n",
    "\n",
    "Make the \"test2\" directory with `mkdir`:"
   ]
  },
  {
   "cell_type": "code",
   "execution_count": null,
   "metadata": {},
   "outputs": [],
   "source": [
    "mkdir test2"
   ]
  },
  {
   "cell_type": "markdown",
   "metadata": {},
   "source": [
    "Move into the \"test2\" directory with `cd`:"
   ]
  },
  {
   "cell_type": "code",
   "execution_count": null,
   "metadata": {},
   "outputs": [],
   "source": [
    "cd test2"
   ]
  },
  {
   "cell_type": "markdown",
   "metadata": {},
   "source": [
    "Now we're going to use a new command called `nano`. __Nano__ is a simple text-editor that you can acess from Terminal. You can open the text-editor by simply typing `nano` into terminal, or you can provide a filename for the text document you want to create:"
   ]
  },
  {
   "cell_type": "code",
   "execution_count": null,
   "metadata": {},
   "outputs": [],
   "source": [
    "nano Textfile.txt"
   ]
  },
  {
   "cell_type": "markdown",
   "metadata": {},
   "source": [
    "This will open the Nano text-editor in Terminal. You can add any text you want, here's an example:\n",
    "    \n",
    "    Hello world\n",
    "    \n",
    "Once you've written some text, use the `command` + `x` keys to exit Nano. Nano will ask the following:\n",
    "\n",
    "`Save modified buffer (ANSWERING \"No\" WILL DESTROY CHANGES) ?`\n",
    "\n",
    "Press the `y` key to save your file. Nano will then double-check what you want to name the file:\n",
    "\n",
    "`File Name to Write: Textfile.txt`\n",
    "\n",
    "If you never provided a file name, you will have the opporutnity to do so now. If you are happy with the file name, hit the `enter / return` key. This will take you back to the normal Terminal window.\n",
    "\n",
    "Verfiy that you now have a text file called \"Textfile.txt\" in your Test folder:"
   ]
  },
  {
   "cell_type": "code",
   "execution_count": null,
   "metadata": {},
   "outputs": [],
   "source": [
    "ls"
   ]
  },
  {
   "cell_type": "markdown",
   "metadata": {},
   "source": [
    "You should get \"Textfile.txt\" in response."
   ]
  },
  {
   "cell_type": "markdown",
   "metadata": {},
   "source": [
    "## 1.7. mv: moving and renaming files\n",
    "\n",
    "You now have a folder (\"test2\") with a file in it (\"Textfile.txt\"). You can rename the file using the `mv` (__move__) command."
   ]
  },
  {
   "cell_type": "code",
   "execution_count": null,
   "metadata": {},
   "outputs": [],
   "source": [
    "mv Textfile.txt Newfile.txt"
   ]
  },
  {
   "cell_type": "markdown",
   "metadata": {},
   "source": [
    "Use the `ls` command again and you should see \"Newfile.txt\" instead of \"Textfile.txt\"\n",
    "\n",
    "You can also move the file (with or without changing the file name) using this command.:"
   ]
  },
  {
   "cell_type": "code",
   "execution_count": null,
   "metadata": {},
   "outputs": [],
   "source": [
    "mv Newfile.txt ~/Desktop/Newfile.txt"
   ]
  },
  {
   "cell_type": "markdown",
   "metadata": {},
   "source": [
    "## 1.8. rm: removing files and directories\n",
    "\n",
    "You have learned some good skills, but now you have some junk spread all over your computer, including a text file on your desktop (\"\\~/Desktop/Newfile.txt\"), and a folder (\"\\~/Test\"). \n",
    "\n",
    "You can delete files and folders from your computer using the `rm` command.\n",
    "\n",
    "__Warning, objects deleted with rm cannot be recovered!!__\n",
    "\n",
    "They are gone forever, and slight mistakes (like adding a poorly placed space to a file name) could result in the destruvtion of lots of files. You might even ruin your computer's operating system if you're in the wrong folder. Because of this I recommend that you always inclue the `-i` flag when running `rm`; this calls the \"interactive mode\", meaning terminal will double-check with me before removing objects."
   ]
  },
  {
   "cell_type": "code",
   "execution_count": null,
   "metadata": {},
   "outputs": [],
   "source": [
    "rm -i ~/Desktop/Newfile.txt"
   ]
  },
  {
   "cell_type": "markdown",
   "metadata": {},
   "source": [
    "Since folders generally generally have files and subfolder in them, we need to add the `-r` (__recursive__) flag as well as the -i flag. Recursive mode specifies that you want to delete all files within the folder:"
   ]
  },
  {
   "cell_type": "code",
   "execution_count": null,
   "metadata": {},
   "outputs": [],
   "source": [
    "rm -ir ~/Test"
   ]
  },
  {
   "cell_type": "markdown",
   "metadata": {},
   "source": [
    "## That is enough for this lesson. There are many other commands that can be used to navigate around your computer using Terminal. I've put together a cheat sheet below for reference:"
   ]
  },
  {
   "cell_type": "markdown",
   "metadata": {},
   "source": [
    "<center>(adapted from https://gist.github.com/poopsplat/7195274#file-gistfile1-textile)</center>\n",
    "\n",
    "<h1><center>CORE COMMANDS</center></h1>\n",
    "\n",
    "|command|description|\n",
    "|-----|-----|\n",
    "| cd | Home directory |\n",
    "| cd [folder] | Change directory |\n",
    "| cd ~ | Home directory, e.g. 'cd ~/folder/' |\n",
    "| cd / | Root of drive |\n",
    "| ls | Short listing |\n",
    "| ls -l | Long listing |\n",
    "| ls -a | Listing incl. hidden files |\n",
    "| ls -lh | Long listing with Human readable file sizes |\n",
    "| ls -R | Entire content of folder recursively |\n",
    "| sudo [command] | Run command with the security privileges of the superuser (Super User DO) |\n",
    "| open [file] | Opens a file |\n",
    "| open . | Opens the directory |\n",
    "| top | Displays active processes. Press q to quit |\n",
    "| nano [file] | Opens the Terminal it's editor |\n",
    "| pico\t[file] | Opens the Terminal it's editor |\n",
    "| q | Exit |\n",
    "| clear | Clear screen |\n",
    "\n",
    "<h1><center>FILE MANAGEMENT</center></h1>\n",
    "\n",
    "|command|description|\n",
    "|-----|-----|\n",
    "| touch [file] | Create new file |\n",
    "| pwd | Full path to working directory |\n",
    "| .. | Parent/enclosing directory, e.g. |\n",
    "| ls -l .. | Long listing of parent directory |\n",
    "| cd ../../ | Move 2 levels up |\n",
    "| . | Current folder |\n",
    "| cat | Concatenate to screen |\n",
    "| rm [file] | Remove a file, e.g. rm [file] [file] |\n",
    "| rm -i [file] | Remove with confirmation |\n",
    "| rm -r [dir] | Remove a directory and contents |\n",
    "| rm -f [file] | Force removal without confirmation |\n",
    "| rm -i [file] | Will display prompt before |\n",
    "| cp [file] [newfile] | Copy file to file |\n",
    "| cp [file] [dir] | Copy file to directory |\n",
    "| mv [file] [new filename] | Move/Rename, e.g. mv -v [file] [dir] |\n",
    "\n",
    "<h1><center>DIRECTORY MANAGEMENT</center></h1>\n",
    "\n",
    "|command|description|\n",
    "|-----|-----|\n",
    "| mkdir [dir] | Create new directory |\n",
    "| mkdir -p [dir]/[dir] | Create nested directories |\n",
    "| rmdir [dir] | Remove directory ( only operates on empty directories ) |\n",
    "| rm -R [dir] | Remove directory and contents |\n",
    "\n",
    "<h1><center>PIPES - Allows to combine multiple commands that generate output</center></h1>\n",
    "\n",
    "|command|description|\n",
    "|-----|-----|\n",
    "| more | Output content delivered in screensize chunks |\n",
    "| > [file] | Push output to file, keep in mind it will get overwritten |\n",
    "| >> [file] | Append output to existing file |\n",
    "| < | Tell command to read content from a file |\n",
    "\n",
    "<h1><center>HELP</center></h1>\n",
    "\n",
    "|command|description|\n",
    "|-----|-----|\n",
    "| [command] -h | Offers help |\n",
    "| [command] --help | Offers help |\n",
    "| [command] help | Offers help |\n",
    "| reset | Resets the terminal display |\n",
    "| man [command] | Show the help for 'command' |\n",
    "| whatis [command] | Gives a one-line description of 'command' |"
   ]
  }
 ],
 "metadata": {
  "anaconda-cloud": {},
  "kernelspec": {
   "display_name": "Bash",
   "language": "bash",
   "name": "bash"
  },
  "language_info": {
   "codemirror_mode": "shell",
   "file_extension": ".sh",
   "mimetype": "text/x-sh",
   "name": "bash"
  }
 },
 "nbformat": 4,
 "nbformat_minor": 2
}
