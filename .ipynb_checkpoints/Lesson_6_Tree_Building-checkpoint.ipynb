{
 "cells": [
  {
   "cell_type": "markdown",
   "metadata": {},
   "source": [
    "# Lesson 6: Tree Building"
   ]
  },
  {
   "cell_type": "markdown",
   "metadata": {},
   "source": [
    "© 2019 David Gold. Some materials adapted from [\"How to Build a Phylogenetic Tree\"](http://guava.physics.uiuc.edu/~nigel/courses/598BIO/498BIOonline-essays/hw2/files/hw2_li.pdf). Except where the source is noted, this work is licensed under a [Creative Commons Attribution License CC-BY 4.0](https://creativecommons.org/licenses/by/4.0/)."
   ]
  },
  {
   "cell_type": "markdown",
   "metadata": {},
   "source": [
    "Are you taking the class with Dr. Gold? If so, check for any changes in the course material on GitHub:\n",
    "\n",
    "    git fetch upstream\n",
    "    git merge upstream/master"
   ]
  },
  {
   "cell_type": "markdown",
   "metadata": {},
   "source": [
    "## Genetic distance:\n",
    "\n",
    "Genetic distance is the number of mutation/evolutionary events between species sincetheir divergence. The simplest way to calculate it is to count the number of difference betweentwo sequences. However, the method, which is often refer to as hamming method, does notreflect the evolutionary history of the sequence, because not all the mutation events arerecorded in the current sequences. Figure 2 shows an example in which only 3 of 12 mutationevents are detected between homologous sequences[3].Jukes-Cantor Model, which was proposed in 1969, was the first attempt to cope with thisproblem. They gave a corrective formula )341ln(43pK−−= (fig 3), where Kis the geneticdistance (the mean number of substitutions) and p is the percent difference. This relationreveals that the correction increase with the genetic distance and when the percent of differencesaturates (75%), the true genetic distance is no longer extractable[4].More recent models take into consideration of the different transition/transversion rate,different base frequencies and non-uniform substation rates between sites. All these modelsgive similar results at low divergence. Nevertheless, at high percent of difference, choosingproper substitution model will be very crucial\n",
    "\n",
    "<img src=\"Additional_Materials/Images/6_Mutations.png\">\n",
    "\n",
    "## Tree-Building Methods\n",
    "\n",
    "The most popular and frequently used methods of tree building can be classified into twomajor categories: phenetic methods based on distances and cladistic methods based on characters. The former measures the pair-wise distance/dissimilarity between two genes, the actual size of which depends on different definitions, and constructs the tree totally from the resultant distance matrix. The latter evaluate all possible trees and seek for the one that optimizes the evolution.\n",
    "\n",
    "## Maximum parsimony (MP)\n",
    "\n",
    "The criterion of MP method is that the simplest explanation of the data is preferred,because it requires the fewest conjectures. By this criterion, the MP tree is the one with fewestsubstitutions/evolutionary changes for all sequences to derive from a common ancestor.For each site in the alignment, all possible trees are evaluated and are given a score basedon the number of evolutionary changes needed to produce the observed sequence changes. Thebest tree is thus the one that minimized the overall number of mutation at all site.MP works faster than ML and the weighted parsimony schemes can deal with most of thedifferent models used by ML.  However, this method yields little information about the branchlengths and suffers badly from long-branch attraction, that is the long branches have becomeartificially connected because of accumulation of inhomogous similarities, even if they are notat all phylogenetically related.\n",
    "\n",
    "## Maximum Likelihood (ML)\n",
    "\n",
    "Like MP methods, ML method also uses each position in an alignment and evaluates allpossible trees. It calculates the likelihood for each tree and seeks the one with the maximumlikelihood.For a given tree, at each site, the likelihood is determined by evaluating the probability thata certain evolutionary model has generated the observed data. The likelihood’s for each site arethen multiplied to provide likelihood for each tree.ML method is the slowest and most computationally intensive method, though it seems togive the best result and the most informative tree\n",
    "\n",
    "\n",
    "## Rooting trees\n",
    "\n",
    "Root is the common ancestor of the species under study. Most phylogenetic methods do notlocate the root of a tree and the unrooted trees only reflect the relationship among species butnot the evolutionary path. Fig5 (a) shows an unrooted tree of species A, B, C and D.If one assumes that argument of molecular clock evolution is valid, which asserts thatinformational macromolecules evolve at rates that are constant through time and for differentlineages, then the root is simply the mid-point of the longest span across the tree. For example,for the unrooted tree in fig 5(a), the root is just the mid-point of the longest span A-B (fig 5(b))."
   ]
  },
  {
   "cell_type": "code",
   "execution_count": null,
   "metadata": {},
   "outputs": [],
   "source": []
  },
  {
   "cell_type": "code",
   "execution_count": null,
   "metadata": {},
   "outputs": [],
   "source": []
  }
 ],
 "metadata": {
  "kernelspec": {
   "display_name": "Bash",
   "language": "bash",
   "name": "bash"
  },
  "language_info": {
   "codemirror_mode": "shell",
   "file_extension": ".sh",
   "mimetype": "text/x-sh",
   "name": "bash"
  }
 },
 "nbformat": 4,
 "nbformat_minor": 2
}
