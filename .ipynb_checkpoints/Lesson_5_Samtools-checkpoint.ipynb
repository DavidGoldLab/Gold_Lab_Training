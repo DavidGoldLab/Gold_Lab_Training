{
 "cells": [
  {
   "cell_type": "markdown",
   "metadata": {},
   "source": [
    "# Lesson 5: Extracting Genes and Making Gene Alignments"
   ]
  },
  {
   "cell_type": "markdown",
   "metadata": {},
   "source": [
    "© 2019 David Gold. Except where the source is noted, this work is licensed under a [Creative Commons Attribution License CC-BY 4.0](https://creativecommons.org/licenses/by/4.0/)."
   ]
  },
  {
   "cell_type": "markdown",
   "metadata": {},
   "source": [
    "Are you taking the class with Dr. Gold? If so, check for any changes in the course material on GitHub:\n",
    "\n",
    "    git fetch upstream\n",
    "    git merge upstream/master"
   ]
  },
  {
   "cell_type": "markdown",
   "metadata": {},
   "source": [
    "## 5.0. Where we left off with Lesson 4\n",
    "\n",
    "In the last lesson, we used `blastp` to compare several query sequences against the brewer's yeast (*Saccharomyces cerevisiae*) proteome. Let's take a look at those results:"
   ]
  },
  {
   "cell_type": "code",
   "execution_count": null,
   "metadata": {},
   "outputs": [],
   "source": [
    "cd ~/git/Gold_Lab_Training/Additional_Materials\n",
    "head Lesson_4_Results.txt"
   ]
  },
  {
   "cell_type": "markdown",
   "metadata": {},
   "source": [
    "Terminal should return the following:\n",
    "\n",
    "    qseqid\tsseqid\tpident\tlength\tmismatch\tgapopen\tqstart\tqend\tsstart\tsend\tevalue\tbitscore\n",
    "    Ectocarpus_siliculosus_CBN76684.1_Sterol_methyltransferase\tsp|P25087|ERG6_YEAST_Sterol_24-C-methyltransferase\t43.296\t358\t182\t3\t75\t413\t13\t368\t2.78e-100\t301\n",
    "\n",
    "Here are the results in a table view for easier interpretation:"
   ]
  },
  {
   "cell_type": "markdown",
   "metadata": {},
   "source": [
    "|qseqid|sseqid|pident|length|mismatch|gapopen|qstart|qend|sstart|send|evalue|bitscore|\n",
    "|:---|:---|:---|:---|:---|:---|:---|:---|:---|:---|:---|:---|\n",
    "|Ectocarpus_siliculosus_CBN76684.1_Sterol_methyltransferase|sp\\|P25087\\|ERG6_YEAST_Sterol_24-C-methyltransferase|43.296|358|182|3|75|413|13|368|2.78e-100|301"
   ]
  },
  {
   "cell_type": "markdown",
   "metadata": {},
   "source": [
    "This is what the header IDs mean:\n",
    "\n",
    "|Column header|Meaning|\n",
    "|:--:|:--:|\n",
    "|qseqid |query (e.g., gene) sequence id|\n",
    "|sseqid|subject (e.g., reference genome) sequence id|\n",
    "|pident|percentage of identical matches|\n",
    "|length|alignment length|\n",
    "|mismatch|number of mismatches|\n",
    "|gapopen|number of gap openings|\n",
    "|qstart|start of alignment in query|\n",
    "|qend|end of alignment in query|\n",
    "|sstart|start of alignment in subject|\n",
    "|send|end of alignment in subject|\n",
    "|evalue|expect value|\n",
    "|bitscore|bit score|"
   ]
  },
  {
   "cell_type": "markdown",
   "metadata": {},
   "source": [
    "As a reminder, one of our query seqeunces (Ectocarpus_siliculosus_CBN76684.1_Sterol_methyltransferase) had a single hit in the yeast database (sp|P25087|ERG6_YEAST_Sterol_24-C-methyltransferase). If we want to see what this BLAST hit looks like, we could open the relevent fasta file in BBEdit and search for it, but that won't work with very large fasta files. Instead we will use a program called [__Samtools__](http://www.htslib.org/). Samtools is primarily use for working with SAM and BAM files, a common text format for high-throughput sequencing data. But it has some useful tools for working with fasta files more broadly."
   ]
  },
  {
   "cell_type": "markdown",
   "metadata": {},
   "source": [
    "## 5.1. Installing Samtools\n",
    "\n",
    "We can install Samtools with Homebrew:"
   ]
  },
  {
   "cell_type": "code",
   "execution_count": null,
   "metadata": {},
   "outputs": [],
   "source": [
    "brew install samtools"
   ]
  },
  {
   "cell_type": "markdown",
   "metadata": {},
   "source": [
    "## 5.2. Retrieving genetic data with Samtools"
   ]
  },
  {
   "cell_type": "markdown",
   "metadata": {},
   "source": [
    "Before we can extract data from a fasta file using Samtools, we need to __index__ the file first. We can do that with Samtools' `faidx` command:"
   ]
  },
  {
   "cell_type": "code",
   "execution_count": null,
   "metadata": {},
   "outputs": [],
   "source": [
    "samtools faidx Lesson_4_Yeast_Proteome.fasta"
   ]
  },
  {
   "cell_type": "markdown",
   "metadata": {},
   "source": [
    "There is now an index file (Lesson_4_Yeast_Proteome.fasta.fai) added to your folder. This allows Samtools to easily navigate fasta files of any size.\n",
    "\n",
    "To look at the gene we found with BLAST, we also use the `faidx` command. But this time we add the name of the seqeunce we're interested in. **Make sure to wrap the name in quotes so Terminal doesn't try to interpret unusual characters in the sequence name**:"
   ]
  },
  {
   "cell_type": "code",
   "execution_count": null,
   "metadata": {},
   "outputs": [],
   "source": [
    "samtools faidx Lesson_4_Yeast_Proteome.fasta \"sp|P25087|ERG6_YEAST_Sterol_24-C-methyltransferase\""
   ]
  },
  {
   "cell_type": "code",
   "execution_count": null,
   "metadata": {},
   "outputs": [],
   "source": [
    "DRAFT: samtools faidx INPUT_FASTA_FILE_(OR_DIRECTORY)  \"NAME_OF_SEQEUNCE\""
   ]
  },
  {
   "cell_type": "markdown",
   "metadata": {},
   "source": [
    "Terminal will return the relevent amino acid sequence:\n",
    "\n",
    "    >sp|P25087|ERG6_YEAST_Sterol_24-C-methyltransferase\n",
    "    MSETELRKRQAQFTRELHGDDIGKKTGLSALMSKNNSAQKEAVQKYLRNWDGRTDKDAEE\n",
    "    RRLEDYNEATHSYYNVVTDFYEYGWGSSFHFSRFYKGESFAASIARHEHYLAYKAGIQRG\n",
    "    DLVLDVGCGVGGPAREIARFTGCNVIGLNNNDYQIAKAKYYAKKYNLSDQMDFVKGDFMK\n",
    "    MDFEENTFDKVYAIEATCHAPKLEGVYSEIYKVLKPGGTFAVYEWVMTDKYDENNPEHRK\n",
    "    IAYEIELGDGIPKMFHVDVARKALKNCGFEVLVSEDLADNDDEIPWYYPLTGEWKYVQNL\n",
    "    ANLATFFRTSYLGRQFTTAMVTVMEKLGLAPEGSKEVTAALENAAVGLVAGGKSKLFTPM\n",
    "    MLFVARKPENAETPSQTSQEATQ\n",
    "    \n",
    "If you want to save this sequence you can redirect it to an output file (we'll call it ERG6.fasta) with the `>` command:"
   ]
  },
  {
   "cell_type": "code",
   "execution_count": null,
   "metadata": {},
   "outputs": [],
   "source": [
    "samtools faidx Lesson_4_Yeast_Proteome.fasta \"sp|P25087|ERG6_YEAST_Sterol_24-C-methyltransferase\" > Lesson_5_1_ERG6.fasta"
   ]
  },
  {
   "cell_type": "markdown",
   "metadata": {},
   "source": [
    "Perhaps you only want to see the part of the yeast gene that matched with the query. Using the `sstart` (start of alignment in subject) and `send` (end of alignment in subject) columns, you'll see that the match encompases amino acids \\#13-368. \n",
    "\n",
    "We can extract these particular sequences using the previous `samtools faidx` command, but adding a colon (`:`) followed by the region of interest: "
   ]
  },
  {
   "cell_type": "code",
   "execution_count": null,
   "metadata": {},
   "outputs": [],
   "source": [
    "samtools faidx Lesson_4_Yeast_Proteome.fasta \"sp|P25087|ERG6_YEAST_Sterol_24-C-methyltransferase\":13-368"
   ]
  },
  {
   "cell_type": "markdown",
   "metadata": {},
   "source": [
    "Terminal will return the follwing:\n",
    "\n",
    "    >sp|P25087|ERG6_YEAST_Sterol_24-C-methyltransferase:13-368\n",
    "    FTRELHGDDIGKKTGLSALMSKNNSAQKEAVQKYLRNWDGRTDKDAEERRLEDYNEATHS\n",
    "    YYNVVTDFYEYGWGSSFHFSRFYKGESFAASIARHEHYLAYKAGIQRGDLVLDVGCGVGG\n",
    "    PAREIARFTGCNVIGLNNNDYQIAKAKYYAKKYNLSDQMDFVKGDFMKMDFEENTFDKVY\n",
    "    AIEATCHAPKLEGVYSEIYKVLKPGGTFAVYEWVMTDKYDENNPEHRKIAYEIELGDGIP\n",
    "    KMFHVDVARKALKNCGFEVLVSEDLADNDDEIPWYYPLTGEWKYVQNLANLATFFRTSYL\n",
    "    GRQFTTAMVTVMEKLGLAPEGSKEVTAALENAAVGLVAGGKSKLFTPMMLFVARKP\n",
    "\n",
    "Compare it to the previous result. Notice how amino acids have been trimmed from the beginning and end of the sequence."
   ]
  },
  {
   "cell_type": "markdown",
   "metadata": {},
   "source": [
    "## 5.2. Extracting multiple sequences with Samtools"
   ]
  },
  {
   "cell_type": "markdown",
   "metadata": {},
   "source": [
    "Extracting sequences from the fasta based on a list of IDs through command line"
   ]
  },
  {
   "cell_type": "markdown",
   "metadata": {},
   "source": [
    "DRAFT: STRUCTURE\n",
    "samtools faidx INPUT.fasta \\\n",
    "\"SEQUENCE 1\" \\\n",
    "\"SEQUENCE 2\" \\\n",
    "\"SEQUENCE 3\" \\\n",
    "> OUTPUT.fasta"
   ]
  },
  {
   "cell_type": "code",
   "execution_count": null,
   "metadata": {},
   "outputs": [],
   "source": [
    "Extracting sequences from the fasta based on a list of IDs in a seperate text file"
   ]
  },
  {
   "cell_type": "code",
   "execution_count": null,
   "metadata": {},
   "outputs": [],
   "source": [
    "Make a text file with your IDs. I recommend putting the names in quotes\n",
    "\n",
    "Using Find/Replace in BBedit (or SED)\n",
    "\n",
    "^ = start of a line in GREP\n",
    "$ = end of a line in GREP\n",
    "\n"
   ]
  },
  {
   "cell_type": "code",
   "execution_count": null,
   "metadata": {},
   "outputs": [],
   "source": [
    "DARFT: STRUCTURE\n",
    "\n",
    "xargs samtools faidx INPUT.fasta < LIST > OUTPUT.fasta\n"
   ]
  },
  {
   "cell_type": "markdown",
   "metadata": {},
   "source": [
    "## 5.3. Extracting conserved regions from multiple genes with Samtools"
   ]
  },
  {
   "cell_type": "markdown",
   "metadata": {},
   "source": [
    "In the \"Additional_Materials\" folder you should find a file called \"Lesson_5_Query_Domain.fasta\". It contains the a seripauperin gene from the yeast *Saccharomyces arboricola* (a different species than the one in our database). Scientistis do not fully understand the purpose of seripauperin genes, although they appear to be induced during alcoholic fermentation. \n",
    "\n",
    "    >PAU5_Saccharomyces_arboricola_EJS43917.1\n",
    "    MVKLTSIAAGVAAIAAGASAATTTLAQSDEKVNLVELGVYVSDIRAHMAQYYLFQAAHPTETYPIEVAEA\n",
    "    VFNYGDFTTMLTGIAADQVTRMITGVPWYSTRLRPAISSALSKDGIYTIAN\n",
    "\n",
    "Let's use BLAST to look for the homologous gene in our *Saccharomyces cerevisiae* database:"
   ]
  },
  {
   "cell_type": "code",
   "execution_count": null,
   "metadata": {},
   "outputs": [],
   "source": [
    "blastp -query Lesson_5_Query_Domain.fasta -db Yeast -outfmt 6 -evalue 10e-5 -out Lesson_5_2_BLAST_Results.txt"
   ]
  },
  {
   "cell_type": "markdown",
   "metadata": {},
   "source": [
    "Let's take a look at the results"
   ]
  },
  {
   "cell_type": "code",
   "execution_count": null,
   "metadata": {},
   "outputs": [],
   "source": [
    "head -n 100 Lesson_5_2_BLAST_Results.txt"
   ]
  },
  {
   "cell_type": "markdown",
   "metadata": {},
   "source": [
    "\tPAU5_Saccharomyces_arboricola_EJS43917.1\tsp|Q08322|PAU20_YEAST_Seripauperin-20\t90.083\t121\t11\t1\t1\t121\t1\t120\t5.92e-69\t201\n",
    "\tPAU5_Saccharomyces_arboricola_EJS43917.1\tsp|P35994|PAU16_YEAST_Seripauperin-16\t87.805\t123\t13\t1\t1\t121\t1\t123\t3.90e-68\t199\n",
    "\tPAU5_Saccharomyces_arboricola_EJS43917.1\tsp|P0CE92|PAU8_YEAST_Seripauperin-8\t90.909\t121\t10\t1\t1\t121\t1\t120\t3.10e-67\t196\n",
    "\tPAU5_Saccharomyces_arboricola_EJS43917.1\tsp|P0CE93|PAU11_YEAST_Seripauperin-11\t90.909\t121\t10\t1\t1\t121\t1\t120\t3.10e-67\t196\n",
    "\tPAU5_Saccharomyces_arboricola_EJS43917.1\tsp|Q3E770|PAU9_YEAST_Seripauperin-9\t90.909\t121\t10\t1\t1\t121\t1\t120\t3.10e-67\t196\n",
    "\tPAU5_Saccharomyces_arboricola_EJS43917.1\tsp|P0CE91|PAU18_YEAST_Seripauperin-18\t90.909\t121\t10\t1\t1\t121\t1\t120\t4.08e-67\t196\n",
    "\tPAU5_Saccharomyces_arboricola_EJS43917.1\tsp|P0CE90|PAU6_YEAST_Seripauperin-6\t90.909\t121\t10\t1\t1\t121\t1\t120\t4.08e-67\t196\n",
    "\tPAU5_Saccharomyces_arboricola_EJS43917.1\tsp|P0CE89|PAU14_YEAST_Seripauperin-14\t90.083\t121\t11\t1\t1\t121\t1\t120\t6.33e-67\t196\n",
    "\tPAU5_Saccharomyces_arboricola_EJS43917.1\tsp|P0CE88|PAU1_YEAST_Seripauperin-1\t90.083\t121\t11\t1\t1\t121\t1\t120\t6.33e-67\t196\n",
    "\tPAU5_Saccharomyces_arboricola_EJS43917.1\tsp|P32612|PAU2_YEAST_Seripauperin-2\t91.736\t121\t9\t1\t1\t121\t1\t120\t1.05e-66\t195\n",
    "\tPAU5_Saccharomyces_arboricola_EJS43917.1\tsp|P53427|PAU4_YEAST_Seripauperin-4\t89.256\t121\t12\t1\t1\t121\t1\t120\t1.08e-66\t195\n",
    "\tPAU5_Saccharomyces_arboricola_EJS43917.1\tsp|P38725|PAU13_YEAST_Seripauperin-13\t90.083\t121\t11\t1\t1\t121\t1\t120\t1.34e-66\t195\n",
    "\tPAU5_Saccharomyces_arboricola_EJS43917.1\tsp|P0CE85|PAU19_YEAST_Seripauperin-19\t88.333\t120\t12\t1\t1\t118\t1\t120\t1.93e-66\t194\n",
    "\tPAU5_Saccharomyces_arboricola_EJS43917.1\tsp|P53343|PAU12_YEAST_Seripauperin-12\t90.083\t121\t11\t1\t1\t121\t1\t120\t2.97e-66\t194\n",
    "\tPAU5_Saccharomyces_arboricola_EJS43917.1\tsp|Q07987|PAU23_YEAST_Seripauperin-23\t86.667\t120\t14\t1\t1\t118\t1\t120\t3.74e-66\t194\n",
    "\tPAU5_Saccharomyces_arboricola_EJS43917.1\tsp|P0CE87|PAU22_YEAST_Seripauperin-22\t88.333\t120\t12\t1\t1\t118\t41\t160\t3.87e-66\t195\n",
    "\tPAU5_Saccharomyces_arboricola_EJS43917.1\tsp|P0CE86|PAU21_YEAST_Seripauperin-21\t88.333\t120\t12\t1\t1\t118\t41\t160\t3.87e-66\t195\n",
    "\tPAU5_Saccharomyces_arboricola_EJS43917.1\tsp|P40585|PAU15_YEAST_Seripauperin-15\t87.500\t120\t13\t1\t1\t118\t1\t120\t5.13e-66\t193\n",
    "\tPAU5_Saccharomyces_arboricola_EJS43917.1\tsp|Q03050|PAU10_YEAST_Seripauperin-10\t90.083\t121\t11\t1\t1\t121\t1\t120\t9.21e-66\t192\n",
    "\tPAU5_Saccharomyces_arboricola_EJS43917.1\tsp|P25610|PAU3_YEAST_Seripauperin-3\t89.167\t120\t11\t1\t1\t118\t1\t120\t1.06e-65\t192\n",
    "\tPAU5_Saccharomyces_arboricola_EJS43917.1\tsp|P38155|PAU24_YEAST_Seripauperin-24\t89.256\t121\t12\t1\t1\t121\t1\t120\t1.13e-65\t192\n",
    "\tPAU5_Saccharomyces_arboricola_EJS43917.1\tsp|P43575|PAU5_YEAST_Seripauperin-5\t89.344\t122\t12\t1\t1\t121\t1\t122\t2.14e-65\t192\n",
    "\tPAU5_Saccharomyces_arboricola_EJS43917.1\tsp|Q12370|PAU17_YEAST_Seripauperin-17\t86.667\t120\t14\t1\t1\t118\t1\t120\t4.55e-65\t191\n",
    "\tPAU5_Saccharomyces_arboricola_EJS43917.1\tsp|P47179|DAN4_YEAST_Cell_wall_protein_DAN4\t78.889\t90\t19\t0\t29\t118\t30\t119\t4.20e-49\t165\n",
    "\tPAU5_Saccharomyces_arboricola_EJS43917.1\tsp|P47178|DAN1_YEAST_Cell_wall_protein_DAN1\t71.134\t97\t28\t0\t22\t118\t23\t119\t8.39e-46\t148\n",
    "\tPAU5_Saccharomyces_arboricola_EJS43917.1\tsp|P39545|PAU7_YEAST_Seripauperin-7\t89.091\t55\t5\t1\t1\t54\t1\t55\t1.14e-15\t63.9\n",
    "\tPAU5_Saccharomyces_arboricola_EJS43917.1\tsp|P10863|TIR1_YEAST_Cold_shock-induced_protein_TIR1\t27.174\t92\t56\t2\t27\t109\t19\t108\t2.05e-08\t48.5\n",
    "\tPAU5_Saccharomyces_arboricola_EJS43917.1\tsp|P27654|TIP1_YEAST_Temperature_shock-inducible_protein_1\t30.864\t81\t51\t2\t36\t111\t28\t108\t2.42e-08\t48.1\n",
    "\tPAU5_Saccharomyces_arboricola_EJS43917.1\tsp|P40552|TIR3_YEAST_Cell_wall_protein_TIR3\t30.769\t91\t58\t2\t31\t116\t26\t116\t3.71e-08\t47.8\n",
    "\tPAU5_Saccharomyces_arboricola_EJS43917.1\tsp|P33890|TIR2_YEAST_Cold_shock-induced_protein_TIR2\t25.532\t94\t59\t2\t27\t111\t19\t110\t1.48e-06\t43.5\n",
    "\tPAU5_Saccharomyces_arboricola_EJS43917.1\tsp|Q12218|TIR4_YEAST_Cell_wall_protein_TIR4\t29.670\t91\t52\t4\t27\t107\t19\t107\t1.51e-05\t40.8\n",
    "\n",
    "This time there are many hits in the BLAST database! Some of these matches could be due to chance, but it is more likely that these genes are related to each other. It turns out that homologous genes don't just exist between species; homologous genes exist within species as well!"
   ]
  },
  {
   "cell_type": "markdown",
   "metadata": {},
   "source": [
    "## 5.4. Homologous genes: Orthologs and Paralogs\n",
    "\n",
    "Gene duplications, recombination, and loss events lead to different numbers of homologous genes in different organisms. This creates a pattern of **orthologs** (genes generated from speciation events) and **paralogs** (genes generated from duplicaation events). Since all of the genes in our database come from one organism (*Saccharomyces cerevisiae*), these genes are presumably all paralogs of each other."
   ]
  },
  {
   "cell_type": "markdown",
   "metadata": {},
   "source": [
    "## 5.5 Multiple Sequence Alignments\n",
    "\n",
    "There are many different multiple sequence alignment programs, which try to find the best (i.e. true) alignment with different methodologies:\n",
    "\n",
    "- Progressive alignments ([CLUSTAL](http://www.clustal.org/), [MAFFT](https://mafft.cbrc.jp/alignment/software/)): start with most similar sequences and build out. These are fast but not guaranteed to converge to a global optimum\n",
    "- Iterative methods ([MUSCLE](https://www.drive5.com/muscle/): repeatedly realign the initial sequences as well as adding new sequences to the growing alignment\n",
    "- Phylogeny-aware methods ([PAGAN](http://wasabiapp.org/software/pagan/phylogenetic_multiple_alignment/); [Prank](http://wasabiapp.org/software/prank/): provide a starting tree\n",
    "- Motif finding ([MEME](http://meme-suite.org/))  identifying short highly conserved patterns within the larger alignment"
   ]
  },
  {
   "cell_type": "markdown",
   "metadata": {},
   "source": [
    "## 5.6 Multiple Sequence Alignment: Extract sequences using `awk` and `xargs`\n",
    "\n",
    "For this next part we're going to use two tools, `awk` and `xargs`. Awk is a language used for manipulating text data. `xargs` is a Unix command that converts standard input into arguments to a command."
   ]
  },
  {
   "cell_type": "code",
   "execution_count": null,
   "metadata": {},
   "outputs": [],
   "source": [
    "awk '{print $2}' Lesson_5_2_BLAST_Results.txt > Temp_BLAST_List\n",
    "\n",
    "xargs samtools faidx Lesson_4_Yeast_Proteome.fasta < Temp_BLAST_List > Lesson_5_3_PAU5_BLAST_Hits.fasta\n",
    "\n",
    "rm Temp_BLAST_List"
   ]
  },
  {
   "cell_type": "markdown",
   "metadata": {},
   "source": [
    "## 5.7 Multiple Sequence Alignment: Align Sequences Using Muscle"
   ]
  },
  {
   "cell_type": "code",
   "execution_count": null,
   "metadata": {},
   "outputs": [],
   "source": [
    "brew install brewsci/bio/muscle\n",
    "\n",
    "muscle -in Lesson_5_3_PAU5_BLAST_Hits.fasta -out Lesson_5_4_PAU5_MUSCLE.fasta"
   ]
  },
  {
   "cell_type": "markdown",
   "metadata": {},
   "source": [
    "There are many programs you can use, one option with an easy interface is [was@bi](http://was.bi). Once you load the data into the program you should see an alignment like this:\n",
    "\n",
    "<img src=\"Additional_Materials/Images/5_was@bi.png\">\n",
    "\n",
    "Some of the regions look pretty good, although they don't look good for every sequence. Other regions look pretty bad. Why is this the case?"
   ]
  },
  {
   "cell_type": "markdown",
   "metadata": {},
   "source": [
    "## 5.8 Cleanup option 1: Only use the aligned regions of the BLAST hits\n",
    "\n",
    "By putting special characters in quotes `\"`, we can extract the sequnece names of the BLAST hits as well as the start and end (`sstart` and `send`) of the aligned region:"
   ]
  },
  {
   "cell_type": "code",
   "execution_count": null,
   "metadata": {},
   "outputs": [],
   "source": [
    "awk '{ print $2\":\"$9\"-\"$10}' Lesson_5_2_BLAST_Results.txt > Temp_BLAST_List\n",
    "\n",
    "xargs samtools faidx Lesson_4_Yeast_Proteome.fasta < Temp_BLAST_List > Lesson_5_5_PAU5_BLAST_Alignments.fasta\n",
    "\n",
    "rm Temp_BLAST_List\n",
    "\n",
    "muscle -in Lesson_5_5_PAU5_BLAST_Alignments.fasta -out Lesson_5_6_MUSCLE_Alignments.fasta"
   ]
  },
  {
   "cell_type": "markdown",
   "metadata": {},
   "source": [
    "Load these new results into [was@bi](http://was.bi) and see how they compare."
   ]
  },
  {
   "cell_type": "markdown",
   "metadata": {},
   "source": [
    "## 5.9 Cleanup option 2: Identify and Isolate Conserved Domains with PFAM/HMMER\n",
    "\n",
    "You can identify conserved domains using the [PFAM web server](https://pfam.xfam.org/search#tabview=tab1).\n",
    "\n",
    "Load the **full** sequences from the BLAST search (Lesson_5_3_PAU5_BLAST_Hits.fasta) into PFAMscan If you provide your email address you will receive the results in plain text.\n",
    "\n",
    "To make life easier I have reproduced the results below and provide them as a text file (Lesson_5_PFAM_Hits.txt)"
   ]
  },
  {
   "cell_type": "markdown",
   "metadata": {},
   "source": [
    "|seq id|alignment start|alignment end|envelope start|envelope end|hmm acc|hmm name|hmm start|hmm end|hmm length|bit score|Individual E-value|Conditional E-value|database significant|outcompeted|clan|\n",
    "|:---|:---|:---|:---|:---|:---|:---|:---|:---|:---|:---|:---|:---|:---|:---|:---|\n",
    "|sp\\|Q08322\\|PAU20_YEAST_Seripauperin-20|22|114|22|115|PF00660.17|SRP1_TIP1|1|98|99|94.38|3.5e-27|1.9e-31|1|0||\n",
    "|sp\\|P35994\\|PAU16_YEAST_Seripauperin-16|26|117|25|118|PF00660.17|SRP1_TIP1|2|98|99|89.28|1.3e-25|7.5e-30|1|0||\n",
    "|sp\\|P0CE92\\|PAU8_YEAST_Seripauperin-8|22|114|22|115|PF00660.17|SRP1_TIP1|1|98|99|95.40|1.7e-27|9.3e-32|1|0||\n",
    "|sp\\|P0CE93\\|PAU11_YEAST_Seripauperin-11|22|114|22|115|PF00660.17|SRP1_TIP1|1|98|99|95.40|1.7e-27|9.3e-32|1|0||\n",
    "|sp\\|Q3E770\\|PAU9_YEAST_Seripauperin-9|22|114|22|115|PF00660.17|SRP1_TIP1|1|98|99|95.40|1.7e-27|9.3e-32|1|0||\n",
    "|sp\\|P0CE91\\|PAU18_YEAST_Seripauperin-18|22|114|22|115|PF00660.17|SRP1_TIP1|1|98|99|94.13|4.1e-27|2.3e-31|1|0||\n",
    "|sp\\|P0CE90\\|PAU6_YEAST_Seripauperin-6|22|114|22|115|PF00660.17|SRP1_TIP1|1|98|99|94.13|4.1e-27|2.3e-31|1|0||\n",
    "|sp\\|P0CE89\\|PAU14_YEAST_Seripauperin-14|22|114|22|115|PF00660.17|SRP1_TIP1|1|98|99|95.64|1.4e-27|7.8e-32|1|0||\n",
    "|sp\\|P0CE88\\|PAU1_YEAST_Seripauperin-1|22|114|22|115|PF00660.17|SRP1_TIP1|1|98|99|95.64|1.4e-27|7.8e-32|1|0||\n",
    "|sp\\|P32612\\|PAU2_YEAST_Seripauperin-2|22|114|22|115|PF00660.17|SRP1_TIP1|1|98|99|97.31|4.2e-28|2.4e-32|1|0||\n",
    "|sp\\|P53427\\|PAU4_YEAST_Seripauperin-4|22|114|22|115|PF00660.17|SRP1_TIP1|1|98|99|94.86|2.5e-27|1.4e-31|1|0||\n",
    "|sp\\|P38725\\|PAU13_YEAST_Seripauperin-13|22|114|22|115|PF00660.17|SRP1_TIP1|1|98|99|95.40|1.7e-27|9.3e-32|1|0||\n",
    "|sp\\|P0CE85\\|PAU19_YEAST_Seripauperin-19|26|117|25|118|PF00660.17|SRP1_TIP1|2|98|99|89.17|1.5e-25|8.2e-30|1|0||\n",
    "|sp\\|P53343\\|PAU12_YEAST_Seripauperin-12|22|114|22|115|PF00660.17|SRP1_TIP1|1|98|99|97.49|3.7e-28|2.1e-32|1|0||\n",
    "|sp\\|Q07987\\|PAU23_YEAST_Seripauperin-23|26|117|25|118|PF00660.17|SRP1_TIP1|2|98|99|90.10|7.5e-26|4.2e-30|1|0||\n",
    "|sp\\|P0CE87\\|PAU22_YEAST_Seripauperin-22|66|157|65|158|PF00660.17|SRP1_TIP1|2|98|99|88.00|3.4e-25|1.9e-29|1|0||\n",
    "|sp\\|P0CE86\\|PAU21_YEAST_Seripauperin-21|66|157|65|158|PF00660.17|SRP1_TIP1|2|98|99|88.00|3.4e-25|1.9e-29|1|0||\n",
    "|sp\\|P40585\\|PAU15_YEAST_Seripauperin-15|26|117|25|118|PF00660.17|SRP1_TIP1|2|98|99|89.24|1.4e-25|7.7e-30|1|0||\n",
    "|sp\\|Q03050\\|PAU10_YEAST_Seripauperin-10|22|113|22|115|PF00660.17|SRP1_TIP1|1|97|99|94.74|2.7e-27|1.5e-31|1|0||\n",
    "|sp\\|P25610\\|PAU3_YEAST_Seripauperin-3|26|117|25|118|PF00660.17|SRP1_TIP1|2|98|99|89.17|1.5e-25|8.2e-30|1|0||\n",
    "|sp\\|P38155\\|PAU24_YEAST_Seripauperin-24|22|114|22|115|PF00660.17|SRP1_TIP1|1|98|99|96.29|8.8e-28|4.9e-32|1|0||\n",
    "|sp\\|P43575\\|PAU5_YEAST_Seripauperin-5|25|116|24|117|PF00660.17|SRP1_TIP1|2|98|99|94.73|2.7e-27|1.5e-31|1|0||\n",
    "|sp\\|Q12370\\|PAU17_YEAST_Seripauperin-17|26|117|25|118|PF00660.17|SRP1_TIP1|2|98|99|90.23|6.8e-26|3.8e-30|1|0||\n",
    "|sp\\|P47179\\|DAN4_YEAST_Cell_wall_protein_DAN4|25|116|24|117|PF00660.17|SRP1_TIP1|2|98|99|80.61|6.8e-23|3.8e-27|1|0||\n",
    "|sp\\|P47178\\|DAN1_YEAST_Cell_wall_protein_DAN1|25|116|24|117|PF00660.17|SRP1_TIP1|2|98|99|84.12|5.5e-24|3.1e-28|1|0||\n",
    "|sp\\|P39545\\|PAU7_YEAST_Seripauperin-7|25|55|23|55|PF00660.17|SRP1_TIP1|2|32|99|25.30|1.2e-05|6.6e-10|1|0||\n",
    "|sp\\|P10863\\|TIR1_YEAST_Cold_shock-induced_protein_TIR1|13|113|13|115|PF00660.17|SRP1_TIP1|1|97|99|126.98|2.4e-37|2.7e-41|1|0||\n",
    "|sp\\|P10863\\|TIR1_YEAST_Cold_shock-induced_protein_TIR1|211|227|210|227|PF00399.19|PIR|2|18|18|28.13|1.0e-06|1.1e-10|1|0||\n",
    "|sp\\|P27654\\|TIP1_YEAST_Temperature_shock-inducible_protein_1|17|110|14|113|PF00660.17|SRP1_TIP1|4|96|99|114.99|1.3e-33|7.3e-38|1|0||\n",
    "|sp\\|P40552\\|TIR3_YEAST_Cell_wall_protein_TIR3|20|115|10|116|PF00660.17|SRP1_TIP1|3|98|99|131.90|7.0e-39|3.9e-43|1|0||\n",
    "|sp\\|P33890\\|TIR2_YEAST_Cold_shock-induced_protein_TIR2|13|113|13|115|PF00660.17|SRP1_TIP1|1|97|99|124.86|1.1e-36|1.2e-40|1|0||\n",
    "|sp\\|P33890\\|TIR2_YEAST_Cold_shock-induced_protein_TIR2|207|224|207|224|PF00399.19|PIR|1|18|18|28.45|8.1e-07|9.0e-11|1|0||\n",
    "|sp\\|Q12218\\|TIR4_YEAST_Cell_wall_protein_TIR4|13|113|13|116|PF00660.17|SRP1_TIP1|1|96|99|109.15|8.6e-32|4.8e-36|1|0|"
   ]
  },
  {
   "cell_type": "markdown",
   "metadata": {},
   "source": [
    "Several of the hits lack a \"SRP1_TIP1\" domain. We don't want to keep those. We can use `grep` to keep the lines that have the domain. We can then use `awk` and `xargs samtools faidx` to extract these domains, based on the \"alignment start\" and \"alignment end\" coordinates (columns 2 and 3 in the table above):"
   ]
  },
  {
   "cell_type": "code",
   "execution_count": null,
   "metadata": {},
   "outputs": [],
   "source": [
    "grep 'SRP1_TIP1' Lesson_5_PFAM_Hits.txt > Temp1.txt\n",
    "\n",
    "awk '{print $1\":\"$2\"-\"$3}' Temp1.txt > Temp2.txt\n",
    "\n",
    "xargs samtools faidx Lesson_4_Yeast_Proteome.fasta < Temp2.txt > Lesson_5_7_PAU5_PFAM.fasta\n",
    "\n",
    "muscle -in Lesson_5_7_PAU5_PFAM.fasta -out Lesson_5_8_PAU5_MUSCLE_PFAM.fasta\n",
    "\n",
    "rm -i Temp*"
   ]
  },
  {
   "cell_type": "markdown",
   "metadata": {},
   "source": [
    "Load these new results into [was@bi](http://was.bi) and see how they compare."
   ]
  },
  {
   "cell_type": "markdown",
   "metadata": {},
   "source": [
    "## 5.10. Upload changes to your GitHub repository\n",
    "\n",
    "Don't forget to upload the changes you made to your forked GitHub account:"
   ]
  },
  {
   "cell_type": "code",
   "execution_count": null,
   "metadata": {},
   "outputs": [],
   "source": [
    "cd ../\n",
    "git add --all\n",
    "git commit -m 'performed samtools exercise'\n",
    "git push"
   ]
  }
 ],
 "metadata": {
  "kernelspec": {
   "display_name": "Bash",
   "language": "bash",
   "name": "bash"
  },
  "language_info": {
   "codemirror_mode": "shell",
   "file_extension": ".sh",
   "mimetype": "text/x-sh",
   "name": "bash"
  }
 },
 "nbformat": 4,
 "nbformat_minor": 2
}
