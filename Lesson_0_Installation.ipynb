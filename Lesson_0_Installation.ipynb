{
 "cells": [
  {
   "cell_type": "markdown",
   "metadata": {},
   "source": [
    "# Lesson 0: Configuring your computer (in 7 easy steps)"
   ]
  },
  {
   "cell_type": "markdown",
   "metadata": {},
   "source": [
    "© 2019-2020 David Gold. Some materials originally adapted from Justin Bois' [Caltech Bootcamp Course](http://justinbois.github.io/bootcamp/2019/). Except where the source is noted, this work is licensed under a [Creative Commons Attribution License CC-BY 4.0](https://creativecommons.org/licenses/by/4.0/).\n",
    "\n",
    "### The Following protocol assumes you are using a Mac (i.e. Unix). Things will be a little different if you are using a computer running Linux or Windows operating systems.\n",
    "\n",
    "<div class=\"alert alert-block alert-info\">\n",
    "Recommendations for those using Windows/Linux users will appear in blue boxes like this.\n",
    "</div>"
   ]
  },
  {
   "cell_type": "markdown",
   "metadata": {},
   "source": [
    "## 0.1. First things first, make sure your computer's operating system is up to date"
   ]
  },
  {
   "cell_type": "markdown",
   "metadata": {},
   "source": [
    "## 0.2. Find your Terminal application"
   ]
  },
  {
   "cell_type": "markdown",
   "metadata": {},
   "source": [
    "Press `Command` + `spacebar` to launch Spotlight. Type \"Terminal\" into the search bar, and then double-click the top search result. You could also search for Terminal using the Finder function on Macs.\n",
    "\n",
    "You will want easy access to Terminal in the future. Right-click the Terminal icon on your dock and select `Options > Keep in Dock`\n",
    "\n",
    "<div class=\"alert alert-block alert-info\">\n",
    "The \"Windows Subsystem for Linux\" lets you run a Linux Terminal on Windows. There is a tutorial for installing the subsystem at https://docs.microsoft.com/en-us/windows/wsl/install-win10. I am currently using WSL 1 and the \"Ubuntu 18.04 LTS\" Distribution on my PC. You will need to locate your PowerShell program to install Windows Subsystem for Linux; you can find it by typing \"PowerShell\" into your computer's search bar.</div>"
   ]
  },
  {
   "cell_type": "markdown",
   "metadata": {},
   "source": [
    "## 0.3. Install XCode (Mac Only)"
   ]
  },
  {
   "cell_type": "markdown",
   "metadata": {},
   "source": [
    "Xcode provides a suite of development tools and libraries produced by Apple. Xcode's __Command Line Tools__ are particularly important as they include the GCC (GNU Compiler Collection) compiler, which is required by many of the programs we use. \n",
    "\n",
    "You can either download [XCode](https://developer.apple.com/xcode/) from the Apple App Store or install the command line tools directly by pasting the following command into Terminal:"
   ]
  },
  {
   "cell_type": "code",
   "execution_count": null,
   "metadata": {},
   "outputs": [],
   "source": [
    "xcode-select --install"
   ]
  },
  {
   "cell_type": "markdown",
   "metadata": {},
   "source": [
    "## 0.4. Install Homebrew"
   ]
  },
  {
   "cell_type": "markdown",
   "metadata": {},
   "source": [
    "In this lab we will be using lots of different __packages__, or achives that contain computer software. Packages can range from executable files (which you are probably faimiliar with--icons that say \"click here to install\") to source code that could be written in a variety of computer languages and often requires __dependencies__, or other packages needed for proper implementation. It can all be a little overhwelming, even for those familiar with coding.\n",
    "\n",
    "Forutnatley there are __package managers__ that automate the process of installing, configuring, and upgrading computer programs. In this lab we will be using [Homebrew](https://brew.sh). Install it by pasting the following in your Terminal."
   ]
  },
  {
   "cell_type": "code",
   "execution_count": null,
   "metadata": {},
   "outputs": [],
   "source": [
    "/bin/bash -c \"$(curl -fsSL https://raw.githubusercontent.com/Homebrew/install/master/install.sh)\""
   ]
  },
  {
   "cell_type": "markdown",
   "metadata": {},
   "source": [
    "Follow the instructions provided by Homebrew. You might run into errors or warnings during the installation, but Homebrew is well documented and will probably tell you what commands to execute if you run into trouble. Read the output from Homebrew carefuly!"
   ]
  },
  {
   "cell_type": "markdown",
   "metadata": {},
   "source": [
    "### 0.4.1. Homebrew basics"
   ]
  },
  {
   "cell_type": "markdown",
   "metadata": {},
   "source": [
    "With Homebrew you can search for and install packages developed by other programmers. Homebrew is accessed in Terminal using the following syntax: __`brew` `VERB` `OPTIONS`__\n",
    "\n",
    "Let's try to `search` for the program wget:"
   ]
  },
  {
   "cell_type": "code",
   "execution_count": null,
   "metadata": {},
   "outputs": [],
   "source": [
    "brew search wget"
   ]
  },
  {
   "cell_type": "markdown",
   "metadata": {},
   "source": [
    "Terminal should return something like the following:\n",
    "\n",
    "    ==> Formulae\n",
    "    wget                                   wgetpaste\n",
    "\n",
    "Homebrew found two possilbe programs, \"wget\" and \"wgetpaste\". We want to `install` wget, and we can do that with the following command in Terminal."
   ]
  },
  {
   "cell_type": "code",
   "execution_count": null,
   "metadata": {},
   "outputs": [],
   "source": [
    "brew install wget"
   ]
  },
  {
   "cell_type": "markdown",
   "metadata": {},
   "source": [
    "If you want to find out where wget exists on your computer, use the `info` command: "
   ]
  },
  {
   "cell_type": "code",
   "execution_count": null,
   "metadata": {},
   "outputs": [],
   "source": [
    "brew info wget "
   ]
  },
  {
   "cell_type": "markdown",
   "metadata": {},
   "source": [
    "You should get the following as part of the output:\n",
    "\n",
    "    wget: stable 1.20.3 (bottled), HEAD\n",
    "    Internet file retriever\n",
    "    https://www.gnu.org/software/wget/\n",
    "    /usr/local/Cellar/wget/1.19.5 (50 files, 3.7MB) *\n",
    "          Poured from bottle on 2018-09-13 at 20:07:35\n",
    "    From: https://github.com/Homebrew/homebrew-core/blob/master/Formula/wget.rb\n",
    "    \n",
    "\n",
    "The part that says `/usr/local/Cellar/wget/1.19.5` shows you the __path__ to your program. The path shows you where a file or folder is stored on your computer. It lists all of the parent directories, separated by slashes (`/`). We will talk more about paths in the next lesson."
   ]
  },
  {
   "cell_type": "markdown",
   "metadata": {},
   "source": [
    "### 0.4.2. A couple other good commands for Homebrew"
   ]
  },
  {
   "cell_type": "markdown",
   "metadata": {},
   "source": [
    "`List` all of the programs you have installed with Homebrew:"
   ]
  },
  {
   "cell_type": "code",
   "execution_count": null,
   "metadata": {},
   "outputs": [],
   "source": [
    "brew list"
   ]
  },
  {
   "cell_type": "markdown",
   "metadata": {},
   "source": [
    "You can even look for things you have installed using grep (Global regular expression print; we'll talk more about grep later). __Make sure to replace '[PROGRAM_NAME]' with the e of the program!__"
   ]
  },
  {
   "cell_type": "code",
   "execution_count": null,
   "metadata": {},
   "outputs": [],
   "source": [
    "brew list | grep [PROGRAM_NAME]"
   ]
  },
  {
   "cell_type": "markdown",
   "metadata": {},
   "source": [
    "`Update` all of the programs in Homebrew:"
   ]
  },
  {
   "cell_type": "code",
   "execution_count": null,
   "metadata": {},
   "outputs": [],
   "source": [
    "brew update"
   ]
  },
  {
   "cell_type": "markdown",
   "metadata": {},
   "source": [
    "Use `rm` to remove a program __(again, replace '[PROGRAM_NAME]' with the actual name of the program)__:"
   ]
  },
  {
   "cell_type": "code",
   "execution_count": null,
   "metadata": {},
   "outputs": [],
   "source": [
    "brew rm [PROGRAM_NAME]"
   ]
  },
  {
   "cell_type": "markdown",
   "metadata": {},
   "source": [
    "## 0.5. Install Python 3"
   ]
  },
  {
   "cell_type": "markdown",
   "metadata": {},
   "source": [
    "Mac operting systems (OSX) come preinstalled with Python 2.7. Some programs require Python 2, But it is quickly being replaced with Python 3 (it will be no longer be updated by the developers in 2020). So let's make sure you are working with the latest version!\n",
    "\n",
    "First, install Python 3 with Homebrew:"
   ]
  },
  {
   "cell_type": "code",
   "execution_count": null,
   "metadata": {},
   "outputs": [],
   "source": [
    "brew install python"
   ]
  },
  {
   "cell_type": "markdown",
   "metadata": {},
   "source": [
    "Python 2 still exists on your computer. It might be important for certain programs. If you ever get an error message while working with Python, one of the first things to check is what version are you working with, and what version your program requires.\n",
    "\n",
    "Let's set Python 3 as our default version of Python:"
   ]
  },
  {
   "cell_type": "code",
   "execution_count": null,
   "metadata": {},
   "outputs": [],
   "source": [
    "alias python=/usr/local/bin/python3"
   ]
  },
  {
   "cell_type": "markdown",
   "metadata": {},
   "source": [
    "Now double-check which version of Python is your default:"
   ]
  },
  {
   "cell_type": "code",
   "execution_count": null,
   "metadata": {},
   "outputs": [],
   "source": [
    "python --version"
   ]
  },
  {
   "cell_type": "markdown",
   "metadata": {},
   "source": [
    "You should get a version of Python 3:\n",
    "\n",
    "    Python 3.7.4\n",
    "    \n",
    "Python uses a program called 'Pip' to install packages. Make sure you are using the right version of Pip as well:"
   ]
  },
  {
   "cell_type": "code",
   "execution_count": null,
   "metadata": {},
   "outputs": [],
   "source": [
    "Pip --version"
   ]
  },
  {
   "cell_type": "markdown",
   "metadata": {},
   "source": [
    "You should get a response like this:\n",
    "\n",
    "    pip 19.3 from /usr/local/lib/python3.7/site-packages/pip (python 3.7)\n",
    "    \n",
    "Note the reference to Python 3 at the end."
   ]
  },
  {
   "cell_type": "markdown",
   "metadata": {},
   "source": [
    "You can now access Python 3 by calling the program:"
   ]
  },
  {
   "cell_type": "code",
   "execution_count": null,
   "metadata": {},
   "outputs": [],
   "source": [
    "python"
   ]
  },
  {
   "cell_type": "markdown",
   "metadata": {},
   "source": [
    "You will be able to tell that you are in Python because the '$' starting every line in Terminal (which indicates you're in the BASH environment) is now replaced with '>>>' (which indicates you're in the PYTHON environemnt).\n",
    "\n",
    "We will discuss working in Python later in the course. For now you can quit Python using the following command:"
   ]
  },
  {
   "cell_type": "code",
   "execution_count": null,
   "metadata": {},
   "outputs": [],
   "source": [
    "quit()"
   ]
  },
  {
   "cell_type": "markdown",
   "metadata": {},
   "source": [
    "## 0.6. Download a text editor"
   ]
  },
  {
   "cell_type": "markdown",
   "metadata": {},
   "source": [
    "A text editor is a type of computer program that manipulates __plain text__. This is distinct from a word processor (Such as Microsoft Word) which edits rich text. Rich text contains all sorts of additional metadata, such as font size and style, paragraph formatting, and page margin settings. You will need a text editor to develop code.\n",
    "\n",
    "Two common text editors are [BBEdit](http://www.barebones.com/products/bbedit/) and [Sublime Text](https://www.sublimetext.com). I use BBEdit. The program starts in \"trial\" mode for ~14 days; let the clock run out and it will switch to \"free\" mode. Free mode has fewer abilities but it is more than capable of handling anything being done in our lab.\n",
    "\n",
    "<div class=\"alert alert-block alert-info\">\n",
    "BBEdit is not avaialbe on Windows. A commonly-used alternative is Notepad++ (https://notepad-plus-plus.org/)\n",
    "</div>\n",
    "\n",
    "__A couple of things to do after you intall BBEdit__\n",
    "\n",
    "1. Make sure to activate BBEdit's connection to Xcode by opening BBEdit and then selecting `BBEdit > \"Install Command Line Tools\"` in the menu.\n",
    "\n",
    "2. Make sure BBEdit is saving files in the \"Unix (LF)\" format. You can check the format at the bottom of the BBEdit window. See the picture below for an example:\n",
    "\n",
    "<img src=\"Additional_Materials/Images/0_BBedit.png\">"
   ]
  },
  {
   "cell_type": "markdown",
   "metadata": {},
   "source": [
    "## 0.7. Install Git"
   ]
  },
  {
   "cell_type": "markdown",
   "metadata": {},
   "source": [
    "There are several ways to install Git on a Mac:\n",
    "\n",
    "1) It should have been included when you installed the Xcode Command Line Tools. To check, paste the following prompt into Terminal:"
   ]
  },
  {
   "cell_type": "code",
   "execution_count": null,
   "metadata": {},
   "outputs": [],
   "source": [
    "git --version"
   ]
  },
  {
   "cell_type": "markdown",
   "metadata": {},
   "source": [
    "If you don’t have it installed already, this command will prompt you to install it.\n",
    "\n",
    "2) You can install it via Homebrew:"
   ]
  },
  {
   "cell_type": "code",
   "execution_count": null,
   "metadata": {},
   "outputs": [],
   "source": [
    "brew install git"
   ]
  },
  {
   "cell_type": "markdown",
   "metadata": {},
   "source": [
    "3) You could use a binary installer. Git installers are maintained and available for download at the [Git website](https://git-scm.com/download/mac)"
   ]
  },
  {
   "cell_type": "markdown",
   "metadata": {},
   "source": [
    "## That's it for Lesson 0. In the next lesson we will learn how to navigate the computer using terminal."
   ]
  }
 ],
 "metadata": {
  "kernelspec": {
   "display_name": "Bash",
   "language": "bash",
   "name": "bash"
  },
  "language_info": {
   "codemirror_mode": "shell",
   "file_extension": ".sh",
   "mimetype": "text/x-sh",
   "name": "bash"
  }
 },
 "nbformat": 4,
 "nbformat_minor": 4
}
