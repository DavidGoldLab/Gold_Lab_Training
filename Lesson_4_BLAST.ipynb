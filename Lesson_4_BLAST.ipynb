{
 "cells": [
  {
   "cell_type": "markdown",
   "metadata": {},
   "source": [
    "# Lesson 4: Finding Homologous Genes with BLAST"
   ]
  },
  {
   "cell_type": "markdown",
   "metadata": {},
   "source": [
    "© 2019 David Gold. Except where the source is noted, this work is licensed under a [Creative Commons Attribution License CC-BY 4.0](https://creativecommons.org/licenses/by/4.0/)."
   ]
  },
  {
   "cell_type": "markdown",
   "metadata": {},
   "source": [
    "Are you taking the class with Dr. Gold? If so, check for any changes in the course material on GitHub:\n",
    "\n",
    "    git fetch upstream\n",
    "    git checkout master\n",
    "    git merge upstream/master"
   ]
  },
  {
   "cell_type": "markdown",
   "metadata": {},
   "source": [
    "## 4.0. What are homologous genes?\n",
    "\n",
    "In comparative genomics, our goal is to understand the evolution and function of genes (as well as other genetic elements). To compare genes between individuals or species, we need to indetify __homologous__ bits of DNA. [Homologous DNA](https://en.wikipedia.org/wiki/Sequence_homology) is DNA that is conserved between to organisms because it was present in their last common ancestor.\n",
    "\n",
    "We can identify homolgous DNA between organisms based on how simmilar their DNA or amino acid (if we are working with proteins) sequences are. __While simmilarities between DNA can be expressed as a percentage (a gene between humans and mice might be 78% simmilar in its DNA sequences) homology is binary; genes either are or are not shared from a last common ancestor.__"
   ]
  },
  {
   "cell_type": "markdown",
   "metadata": {},
   "source": [
    "## 4.1. Identifying homologous genes with the BLAST web server"
   ]
  },
  {
   "cell_type": "markdown",
   "metadata": {},
   "source": [
    "To perform this exercise, we’re going to use the [National Center for Biotechnology Information (NCBI)](https://www.ncbi.nlm.nih.gov/). This is a public database with nearly all of the genetic material scientists have sequenced and published.\n",
    "\n",
    "In particular, we’re going to use a program on NCBI called __BLAST (Basic Local Alignment Search Tool)__. BLAST takes a query sequence that you provide, and compares it against all sequences in the NCBI database. It looks for similar sequences that might be homologous.\n",
    "\n",
    "There are four different versions of BLAST, depending on what you want to use for the query and the database. Keep in mind that to compare DNA to proteins, the DNA first has to be __translated__ into amino acids:\n",
    "\n",
    "- __Nucelotide BLAST (blastn__): compares a DNA query to a DNA database\n",
    "- __Protein BLAST (blastp)__: compares a protein query to a protein database\n",
    "- __blastx__: compares a translated DNA query to a protein database\n",
    "- __tblastn__: compares a protein query to a translated DNA database\n",
    "- __tblastx__: compares a translated DNA query to a translated DNA database\n",
    "\n",
    "The program you want to use depends on what you’re trying to accomplish. If you want to find homologous sequences from closely related species (or individuals within a species), you’re probably interested in comparing DNA. If you want to find homologous sequences from distantly related species, you’re probably interested in comparing proteins (since many synonymous DNA triplets code for the same amino acid, DNA tends to evolve faster than proteins, making it harder to compare across distantly related life forms).\n",
    "\n",
    "Let’s test it out! \n",
    "Here is a DNA sequence from an earthworm (_Lumbricus terrestris)_. This is in a format called the __FASTA format__. The first line (starting with a “>” symbol) describes the sequence. The other lines contain the DNA code:"
   ]
  },
  {
   "cell_type": "code",
   "execution_count": null,
   "metadata": {},
   "outputs": [],
   "source": [
    ">Earthworm_mystery_gene\n",
    "TCCGCCCTTGGTAAGCTGAAGATCCCGGGGGTTGGATCCCTCAGTCAGAGCACGATCTGTCGATTCGAATCGCTCACCC\n",
    "TCAGCCACAACAACATGGTGGCGCTAAAGCCCGTCCTCCAGGCGTGGCTCGAGGAGGCGGAGAAGTCCCGGATGGAGAA\n",
    "CCGGTTGCGGAACGAGCTGTTCAACGGAACTGGTCCCGGCGGAGACAAGAAGCGGAAGCGGACGTCGATCGCCGCCCCT\n",
    "GAGAAGCGATCCCTCGAGGCCTACTTCGCCATCCAGCCGCGTCCGTCGGGCGAGAAGATCGCGCAGATCGCCGACAAAC\n",
    "TCGATCTGAAGAAGAACGTCGTT"
   ]
  },
  {
   "cell_type": "markdown",
   "metadata": {},
   "source": [
    "We want to compare this sequence to distnatly related animals, so we should compare this earthworm __query sequence__ against a __protein database__. I would therefore recommend using blastx. \n",
    "\n",
    "Take this sequence and submit it to [BLAST](https://blast.ncbi.nlm.nih.gov). Pick `blastx` and you should see a page like this: \n",
    "\n",
    "<img src=\"Additional_Materials/Images/4_BLAST_Screen1.png\">\n",
    "\n",
    "The first heading: `Enter Query Sequence` is where you provide the query sequence. Copy the earthworm sequence provided earlier and paste it into this box. The second heading\" `Choose Search Set` tells BLAST whether you want to search the whole NCBI database, or just a subset of it. For now, let’s leave all of these other parameters empty. Hit the “BLAST” button at the bottom of the screen and let’s see what we find! \n",
    "\n",
    "It might take a few minutes for BLAST to finish running, so be patient. BLAST is comparing your query sequence to ~209 million other sequences in the NCBI database! but in the end you’ll come to a page like this: \n",
    "\n",
    "<img src=\"Additional_Materials/Images/4_BLAST_Screen2.png\">\n",
    "\n",
    "The `Descriptions` tab lists the results of the BLAST search from best match to worst. The features used to determine the best match are described in the __`Query Cover`__ column (how much of the query is covered by the database match), and the __`Per. Ident`__ (percent indentity) column (how similar are the query and match sequences). `Query Cover` and `Per. Ident` are used to calculate the __`E Value`__, which is the likelihood that the query and match look similar by chance (in other words, the probability that they are not homologous). An E-value cutoff of 10e-5 is often used to determine whether genes are homologous or not, but to know for sure a scientist has to do lots of additional, careful study.\n",
    "\n",
    "The first hit has 100% “Query cover” and 100% “Ident”, meaning it’s identical to the sequence we submitted. According to the E-value, the probability that these two sequences match perfectly by chance is 1-76 (that is pretty unlikely). In other words, our query is a perfect match to the “class IV POU domain” protein in the earthworm (*Lumbricus terrestris*). We’ve identified the mystery gene!\n",
    "\n",
    "In addition to this best hit, we can look at other similar genes from other organisms. The next best hit comes from *Helobdella robusta*. Do you know what kind of organism that is? If not, try searching the name in Google. Does it make sense that our gene from *Lumbricus* is very similar to a gene from *Helobdella*? Check out some of the other species on the list. If you don’t recognize the name, search for it online. These are homologous genes from all sorts of different animals.\n",
    "\n",
    "The BLAST website has many other powerful features. You should play around with the different tabs and options to better understand it. But this covers the minimum information we need to perform BLAST on our local computers."
   ]
  },
  {
   "cell_type": "markdown",
   "metadata": {},
   "source": [
    "## 4.2. Identifying homologous genes using BLAST on a local machine\n",
    "\n",
    "What if you want to use a custom database that is not available on NCBI? Or what if you want to build BLAST searches into a computer program that you are writing? Fortunatley, you can download and run BLAST on your personal computer for custom BLAST analyses. \n",
    "\n",
    "To start, use Homebrew to download BLAST:"
   ]
  },
  {
   "cell_type": "code",
   "execution_count": null,
   "metadata": {},
   "outputs": [],
   "source": [
    "brew install blast"
   ]
  },
  {
   "cell_type": "markdown",
   "metadata": {},
   "source": [
    "You can now call the four different BLAST algorithms by using their names: `blastn`, `blastp`, `blastx`, `tblastn`, and `tblastx`."
   ]
  },
  {
   "cell_type": "markdown",
   "metadata": {},
   "source": [
    "### Preparing query and database text files\n",
    "\n",
    "For this exercise I have prepared query and database sequences for you. They are provided in the `Additional Materials` folder of the Gold_Lab_Training GitHub repository. Go to the local directory in Terminal and check out the files:"
   ]
  },
  {
   "cell_type": "code",
   "execution_count": null,
   "metadata": {},
   "outputs": [],
   "source": [
    "cd ~/git/Gold_Lab_Training/Additional_Materials/\n",
    "ls"
   ]
  },
  {
   "cell_type": "markdown",
   "metadata": {},
   "source": [
    "Among other things, you should see the following:\n",
    "\n",
    "    Lesson_4_Query_Sequences.fasta\n",
    "    Lesson_4_Yeast_Proteome.fasta\n",
    "    \n",
    "Our database is going be a __proteome__ (all the proteins in a genome) for brewer's yeast (*Saccharomyces cerevisiae*), a common laboratory model organism. We also have a set of query sequences.\n",
    "\n",
    "These files are not big, but some FASTA files can be hundreds or thousands of megabytes in size! You will not be able to look at the largest FASTA files using a text editor. We can get a peek at the content of these files using the __`head`__ and __`tail`__ commands. As you might guess based on the names, `head` provides the first lines of a file, while `tail` provides the last lines. By default these two programs provide 10 lines of data, but you can adjust that with the `-n` flag.\n",
    "\n",
    "Let's look at the contents of the query file:"
   ]
  },
  {
   "cell_type": "code",
   "execution_count": null,
   "metadata": {},
   "outputs": [],
   "source": [
    "head -n 100 Lesson_4_Query_Sequences.fasta"
   ]
  },
  {
   "cell_type": "markdown",
   "metadata": {},
   "source": [
    "We get this in return:\n",
    "\n",
    "    >CBN76684.1 Sterol methyltransferase [Ectocarpus siliculosus]\n",
    "    MATTLALCVVSSAVLYAQLKDKPLDSVLESPLDQPPLVLANAALTLACSTLVVLKHEVFCRLVYATDPLE\n",
    "    VTWTFIRGFFGQEKGRGIKVDSWITEYNRLHDDNESSVEEREGSYAKLVNAYYELATLFYEWGWGSSFHF\n",
    "    ASRWRNESFQDSIKRHEYYLGGRLGVSRGAKVLDCGCGIGGPYRNIAQFTGADITGITINEYQVKRGNEV\n",
    "    NKNMGVDQQCRSIQGDFMKLPFEDNSFDGVYAIEATCHAPQREGVYSEIYRVLKPGCVFACYEWCLTDKF\n",
    "    DASNDKHRLIKKQIEEGDGLPDMITPPEVDSALKASGFEILETRDAALDPNPGGIPWYQPLTPSWNVFTQ\n",
    "    RFQFNWLGMRLTKAALYVMEMFYLAPAGTNKVQAMLQAGGMGCAQGGLTGTFTPMYLAVCRKPL\n",
    "    >AAA39883.1 p53 [Mus musculus]\n",
    "    MTAMEESQSDISLELPLSQETFSGLWKLLPPEDILPSPHCMDDLLLPQDVEEFFEGPSEALRVSGAPAAQ\n",
    "    DPVTETPGPVAPAPATPWPLSSFVPSQKTYQGNYGFHLGFLQSGTAKSVMCTYSPPLNKLFFQLAKTCPV\n",
    "    QLWVSATPPAGSRVRAMAIYKKSQHMTEVVRRCPHHERCSDGDGLAPPQHLIRVEGNLYPEYLEDRQTFR\n",
    "    HSVVVPYEPPEAGSEYTTIHYKYMCNSSCMGGMNRRPILTIITLEDSSGNLLGRDSFEVRVCACPGRDRR\n",
    "    TEEENFRKKEVLCPELPPGSAKRALPTCTSASPPQKKKPLDGEYFTLKIRGRKRFEMFRELNEALELKDA\n",
    "\n",
    "The head command returned less than 100 lines, which means we are looking at the whole file. There are only two query seqeunces:\n",
    "\n",
    "1. A sterol methyltransferase gene from the brown alga *Ectocarpus*\n",
    "2. A p53 gene from the mouse *Mus*\n",
    "\n",
    "Our files are not very big, so let's start by opening the folder containing the files so that we can look at them in BBEdit:"
   ]
  },
  {
   "cell_type": "code",
   "execution_count": null,
   "metadata": {},
   "outputs": [],
   "source": [
    "open ."
   ]
  },
  {
   "cell_type": "markdown",
   "metadata": {},
   "source": [
    "Open the two files in BBEdit. The format is standard output for fasta sequences from NCBI. There are two things I don't like about this format:\n",
    "- Firstly, there are spaces. White spaces are problematic for coding because they have meaning. That is why all of the files and folders we use seperate words with underscores (`_`). \n",
    "- Secondly, I don't like how the species names are at the end of the sequence name. When we reconstruct gene alignments or evolutionary trees (which we'll do in future lessons) we often only see the first part of the sequence name in our output. The NCBI reference ID (the list of letters and numbers at the start of each sequence name) is not very informative in these cases.\n",
    "\n",
    "In BBEdit use the find function (`Search / Find...` in the menu or hit the `command` + `f` keys) and make the following changes:\n",
    "\n",
    "__Find:__\n",
    "     \n",
    "     (this doesn't look like anything, but it's actually a space!)\n",
    "\n",
    "__Replace:__\n",
    "   \n",
    "    _\n",
    "\n",
    "__Find:__\n",
    "\n",
    "    (>)(.*)(\\\\[)(.*)(\\\\])\n",
    "\n",
    "__Replace:__\n",
    "    \n",
    "    \\1\\4_\\2"
   ]
  },
  {
   "cell_type": "markdown",
   "metadata": {},
   "source": [
    "What if your fasta file is too big to edit in a text editor? An easy way to replace spaces is with __`sed`__, the stream editor. Sed can perform basic text transformations on a file, and is much more memory efficient than other text editors. The find and replace function in sed follows this basic pattern:\n",
    "\n",
    "    sed 's/{FIND}/{REPLACE}/g' {INPUT_FILE} > {OUTPUT_FILE}\n",
    "    \n",
    "So to replace spaces with underscores, you could type the following into Terminal:\n",
    "\n",
    "    sed 's/ /_/g' Lesson_4_Query_Sequences.fasta > Lesson_4_Query_Sequences.modified.fasta"
   ]
  },
  {
   "cell_type": "markdown",
   "metadata": {},
   "source": [
    "### Build the database\n",
    "\n",
    "Now that our text files are formatted the way we like, we need to format \"database\" sequences into a proper BLAST database. We do this with the program `makeblastdb`, which is included in your version of blast. There are several important flags we need to specify for the program to work:\n",
    "\n",
    "- `-in` : the input fasta file\n",
    "- `-dbtype` : specify whether the data represents DNA (nucl) or protein (prot) sequences.\n",
    "- `-out` : what we want the database to be called"
   ]
  },
  {
   "cell_type": "code",
   "execution_count": null,
   "metadata": {},
   "outputs": [],
   "source": [
    "makeblastdb -in Lesson_4_Yeast_Proteome.fasta -dbtype prot -out Yeast"
   ]
  },
  {
   "cell_type": "markdown",
   "metadata": {},
   "source": [
    "We are now ready to BLAST! We have a protein query and a protein database, so we will be using `blastx`. Again, there are several important flags we need to call:\n",
    "\n",
    "- `-query`: the query fasta file\n",
    "- `-db` : the name of the database\n",
    "- `-evalue` : the e-vlaue cutoff we want to use (generally set to 10e-5)\n",
    "- `-outfmt` : the standard output is visually interesting but hard to work with; we use a different, tab-delimited format\n",
    "- `-out` : the name of the results file\n",
    "- `-max_target_seqs` (optional) : how many matches do you want to get for each query?"
   ]
  },
  {
   "cell_type": "code",
   "execution_count": null,
   "metadata": {},
   "outputs": [],
   "source": [
    "blastp -query Lesson_4_Query_Sequences.fasta -db Yeast -evalue 10e-5 -outfmt 6 -out Lesson_4_Results.txt"
   ]
  },
  {
   "cell_type": "markdown",
   "metadata": {},
   "source": [
    "While the `-outfmt 6` option provides an easy to use, __tab-delimited format__ to the data (in other words, it formats the data into rows and columns that could be read by a spreadsheet program like Microsoft Excel). Unfortuantley, the output does not provide information on what each column signifies. You can add this information by using the following command:"
   ]
  },
  {
   "cell_type": "code",
   "execution_count": null,
   "metadata": {},
   "outputs": [],
   "source": [
    "echo -e \"qseqid\\tsseqid\\tpident\\tlength\\tmismatch\\tgapopen\\tqstart\\tqend\\tsstart\\tsend\\tevalue\\tbitscore\"|cat \\\n",
    "- Lesson_4_Results.txt > /tmp/out && mv /tmp/out Lesson_4_Results.txt"
   ]
  },
  {
   "cell_type": "markdown",
   "metadata": {},
   "source": [
    "Let's look at the results using `head`:"
   ]
  },
  {
   "cell_type": "code",
   "execution_count": null,
   "metadata": {},
   "outputs": [],
   "source": [
    "head Lesson_4_Results.txt"
   ]
  },
  {
   "cell_type": "markdown",
   "metadata": {},
   "source": [
    "Terminal should return the following:\n",
    "\n",
    "    qseqid\tsseqid\tpident\tlength\tmismatch\tgapopen\tqstart\tqend\tsstart\tsend\tevalue\tbitscore\n",
    "    Ectocarpus_siliculosus_CBN76684.1_Sterol_methyltransferase\tsp|P25087|ERG6_YEAST_Sterol_24-C-methyltransferase\t43.296\t358\t182\t3\t75\t413\t13\t368\t2.78e-100\t301\n",
    "    \n",
    "It might be easier for you to interpret the results if they are formatted as a table (you can also do this by copying and pasting the results into a spreadsheet):"
   ]
  },
  {
   "cell_type": "markdown",
   "metadata": {},
   "source": [
    "|qseqid|sseqid|pident|length|mismatch|gapopen|qstart|qend|sstart|send|evalue|bitscore|\n",
    "|:---|:---|:---|:---|:---|:---|:---|:---|:---|:---|:---|:---|\n",
    "|Ectocarpus_siliculosus_CBN76684.1_Sterol_methyltransferase|sp\\|P25087\\|ERG6_YEAST_Sterol_24-C-methyltransferase|43.296|358|182|3|75|413|13|368|2.78e-100|301"
   ]
  },
  {
   "cell_type": "markdown",
   "metadata": {},
   "source": [
    "This is what the header IDs mean:\n",
    "\n",
    "|Column header|Meaning|\n",
    "|:--:|:--:|\n",
    "|qseqid |query (e.g., gene) sequence id|\n",
    "|sseqid|subject (e.g., reference genome) sequence id|\n",
    "|pident|percentage of identical matches|\n",
    "|length|alignment length|\n",
    "|mismatch|number of mismatches|\n",
    "|gapopen|number of gap openings|\n",
    "|qstart|start of alignment in query|\n",
    "|qend|end of alignment in query|\n",
    "|sstart|start of alignment in subject|\n",
    "|send|end of alignment in subject|\n",
    "|evalue|expect value|\n",
    "|bitscore|bit score|"
   ]
  },
  {
   "cell_type": "markdown",
   "metadata": {},
   "source": [
    "This is the result of our BLAST search! One of our query seqeunces (Mus_musculus_AAA39883.1_p53) had no matches to the yeast database. Our other query (Ectocarpus_siliculosus_CBN76684.1_Sterol_methyltransferase) had a single hit in the yeast database (sp|P25087|ERG6_YEAST_Sterol_24-C-methyltransferase). The two proteins are ~43% identical (the \"pident\" column) with an e-value score of 2.78e-100. These genes are probably homologs of each other!"
   ]
  },
  {
   "cell_type": "markdown",
   "metadata": {},
   "source": [
    "## 4.3. Upload changes to your GitHub repository\n",
    "\n",
    "Don't forget to upload the changes you made to your forked GitHub account:"
   ]
  },
  {
   "cell_type": "code",
   "execution_count": null,
   "metadata": {},
   "outputs": [],
   "source": [
    "cd ../\n",
    "git add --all\n",
    "git commit -m 'performed blast exercise'\n",
    "git push"
   ]
  }
 ],
 "metadata": {
  "kernelspec": {
   "display_name": "Bash",
   "language": "bash",
   "name": "bash"
  },
  "language_info": {
   "codemirror_mode": "shell",
   "file_extension": ".sh",
   "mimetype": "text/x-sh",
   "name": "bash"
  }
 },
 "nbformat": 4,
 "nbformat_minor": 2
}
